{
 "cells": [
  {
   "cell_type": "markdown",
   "id": "e84c4c59",
   "metadata": {},
   "source": [
    "# 1. 승리 카드"
   ]
  },
  {
   "cell_type": "markdown",
   "id": "2295c7aa",
   "metadata": {},
   "source": [
    "카드들이 N × M 형태로 놓여 있을 때, 게임의 룰에 맞게 승리한 카드의 숫자를 출력하는 프로그램을 작성하시오.\n",
    "\n",
    "<img src=\"https://s3.amazonaws.com/mimirplatform.production/files/6297b838-2a82-4371-8c1e-57730752b5e0/%E1%84%80%E1%85%B3%E1%84%85%E1%85%B5%E1%86%B72.png\" alt=\"그림2.png\" width=\"284\" height=\"263\">\n",
    "\n",
    "[게임 룰]\n",
    "\n",
    "1. N명의 투빅이들은 각각 M개의 숫자 카드를 골라 차례대로 한 줄씩 일렬로 놓을 수 있다. 최종적으로 N × M 형태로 숫자카드들이 놓여진다. 여기서 N은 행의 개수를 의미하고, M은 열의 개수를 의미한다.\n",
    "\n",
    "2. 먼저, 자신이 놓은 카드 M개 중 가장 작은 숫자 카드를 뽑는다.\n",
    "\n",
    "3. 그 다음, N명의 투빅이들이 고른 가장 작은 숫자 카드 N개 중 가장 높은 숫자를 가진 투빅이가 승리한다.\n",
    "\n",
    "[입력 조건]\n",
    "\n",
    "- 첫째 줄에 숫자 카드들이 놓인 행의 개수 N과 열의 개수 M이 공백을 기준으로 하여 각각 자연수로 주어진다.\n",
    "\n",
    "- 둘째 줄부터 N개의 줄에 걸쳐 각 카드에 적힌 숫자가 주어진다. 각 숫자는 1 이상 10,000 이하의 자연수이다.\n",
    "\n",
    "[출력 조건 ]\n",
    "\n",
    "- 첫째 줄에 게임의 룰에 맞게 승리한 카드에 적힌 숫자를 출력한다."
   ]
  },
  {
   "cell_type": "code",
   "execution_count": 2,
   "id": "77da555f",
   "metadata": {},
   "outputs": [
    {
     "name": "stdout",
     "output_type": "stream",
     "text": [
      "3 4\n",
      "4 2 3 6\n",
      "5 4 8 6\n",
      "2 4 5 1\n",
      "4\n"
     ]
    }
   ],
   "source": [
    "'''\n",
    " 1. 승리카드 (구현)\n",
    "그냥 한줄 입력과 동시에 매 줄마다 최솟값을 얻어서, \n",
    "현재 최댓값과 비교하여 갱신하면 됨.\n",
    "'''\n",
    "\n",
    "N, M = map(int, input().split())\n",
    "\n",
    "max_value = 0\n",
    "for _ in range (N):\n",
    "    row_input = list(map(int, input().split()))\n",
    "    \n",
    "    max_value = max(max_value, min(row_input))\n",
    "\n",
    "print(max_value)"
   ]
  },
  {
   "cell_type": "markdown",
   "id": "24417d2b",
   "metadata": {},
   "source": [
    "# 2. 달팽이야 가자"
   ]
  },
  {
   "cell_type": "markdown",
   "id": "ea4c49c8",
   "metadata": {},
   "source": [
    "맹구가 키우는 달팽이가 N × N 크기의 정사각형 미로 위에 서 있다. 이 공간은 1 곱하기 1 크기의 정사각형으로 나누어져 있으며 가장 왼쪽 위 좌표는 (1,1)이고, 가장 오른쪽 아래 좌표는 (N,N)이다. 맹구는 달팽이가 상, 하, 좌, 우 방향으로 스스로 이동할 수 있도록 달팽이를 훈련시키고자 한다. 달팽이의 시작 좌표는 항상 (1,1)이다. 맹구가 미로에 R, L, U, D 중의 문자를 반복적으로 적어 달팽이에게 보여주면 달팽이는 미로에 적힌 문자를 보고 차례대로 이동을 한다. 달팽이가 도착하는 최종 위치가 정답 위치라면 맹구는 달팽이에게 깻잎을 선물로 준다. 이때 달팽이가 N × N 크기의 정사각형 공간을 벗어나는 움직임은 무시된다. 그때, 주어진 입력에 따라 도착한 달팽이의 도착 지점의 좌표를 출력하세요.\n",
    "\n",
    "- L: 왼쪽으로 한 칸 이동\n",
    "\n",
    "- R: 오른쪽으로 한 칸 이동\n",
    "\n",
    "- U: 위로 한 칸 이동\n",
    "\n",
    "- D: 아래로 한 칸 이동\n",
    "\n",
    "\n",
    "<img src=\"https://s3.amazonaws.com/mimirplatform.production/files/22fa8f71-f9d0-4155-82e3-3316f0ca38e9/%E1%84%80%E1%85%B3%E1%84%85%E1%85%B5%E1%86%B71.png\" alt=\"그림1.png\" width=\"229\" height=\"232\">\n",
    "\n",
    "다음은 N=5인 지도와 그림판 내용이다.\n",
    "이 경우 6개의 명령을 받아 달팽이가 움직이는 위치는 순서대로 (1,2), (1,3), (1,3), (2,3), (3,3), (3,2) 이므로 최종적으로 달팽이가 도착하게 되는 곳의 좌표는 (3,2)이다. 다시 말해 3행 2열의 위치에 해당하므로 (3,2)라고 적는다.\n",
    "\n",
    "[입력 조건]\n",
    "\n",
    "- 첫째 줄에 공간의 크기를 나타내는 N이 주어진다. (1≤N≤100)\n",
    "\n",
    "- 둘째 줄에 달팽이가 이동해야 하는 방향이 적힌 그림판 내용이 주어진다. (1≤이동 횟수≤100)\n",
    "\n",
    "[출력 조건]\n",
    "\n",
    "- 첫째 줄에 달팽이가 최종적으로 도착해야 하는 지점의 좌표 (X, Y)를 공백으로 구분하여 출력한다."
   ]
  },
  {
   "cell_type": "code",
   "execution_count": 3,
   "id": "8cdfac73",
   "metadata": {},
   "outputs": [
    {
     "name": "stdout",
     "output_type": "stream",
     "text": [
      "5\n",
      "R R U D D L\n",
      "3 2\n"
     ]
    }
   ],
   "source": [
    "'''\n",
    " 2. 달팽이야 가자 (분기)\n",
    "움직일때, edge인 경우만 처리하면 됨.\n",
    "\n",
    "해당 부분을 함수로 두어 구현함.\n",
    "'''\n",
    "\n",
    "def move(x, y, word, limit):\n",
    "    move_dict = { 'L' : [-1, 0], 'R' : [1, 0], 'U' : [0, -1], 'D' : [0, 1] }\n",
    "    nx, ny = (x + move_dict[word][0], y + move_dict[word][1])\n",
    "\n",
    "    if(nx < 1 or nx > limit): nx = x\n",
    "    if(ny < 1 or ny > limit): ny = y\n",
    "\n",
    "    return (nx, ny)\n",
    "\n",
    "X, Y = (1, 1)\n",
    "N = int(input())\n",
    "directions = input().split()\n",
    "for _dir in directions:\n",
    "    X, Y = move(X, Y, _dir, N)\n",
    "\n",
    "print('%s %s' % (Y, X))"
   ]
  },
  {
   "cell_type": "markdown",
   "id": "316e14e0",
   "metadata": {},
   "source": [
    "# 3. 가보자고"
   ]
  },
  {
   "cell_type": "markdown",
   "id": "9505b31d",
   "metadata": {},
   "source": [
    "소영이의 대학원 건물 엘리베이터는 한 번 작동 시 U층만큼 올라갔다가, D층만큼 내려간다.\n",
    "\n",
    "이 엘리베이터를 타고 건물 최상층인 H층까지 올라가려고 한다.\n",
    "\n",
    "건물은 0층부터 H층까지 로 구성되어 있으며, H층에 도착하면 엘리베이터가 내려가지 않는다. 소영이가 이 엘리베이터를 타고 H층에 도착하려면, 몇 번 동작 시켜야 할까요?\n",
    "\n",
    "[입력 조건]\n",
    "\n",
    "- 첫째 줄에 세 정수 U, D, H가 공백으로 구분되어 주어진다.\n",
    "\n",
    "- 1 <= D <= U <= H <= 1000000000\n",
    "\n",
    "[출력 조건]\n",
    "\n",
    "- 첫째 줄에 H층에 도착하기까지 엘리베이터를 작동시켜야 하는 횟수를 출력한다."
   ]
  },
  {
   "cell_type": "code",
   "execution_count": 4,
   "id": "65c0a9c3",
   "metadata": {},
   "outputs": [
    {
     "name": "stdout",
     "output_type": "stream",
     "text": [
      "2 1 5\n",
      "4\n"
     ]
    }
   ],
   "source": [
    "'''\n",
    " 3. 가보자고\n",
    "U만큼 올라가고, D만큼 내려오지만\n",
    "중간 부분은 크게 상관할 것 없이(그냥 몫 계산) \n",
    "마지막 층까지 바로 올라갈 수 있는지를 판단해주면 된다.\n",
    "\n",
    " * (H - D) / (U - D)에 나머지 값이 있다면, 하루 더 올라가야함.\n",
    "\n",
    "처리가 귀찮으니 (H - D - 1) / (U - D) + 1로 처리함.\n",
    "'''\n",
    "\n",
    "U, D, H = map(int, input().split())\n",
    "\n",
    "print(int((H - D - 1) / (U - D) + 1))"
   ]
  },
  {
   "cell_type": "markdown",
   "id": "894291b3",
   "metadata": {},
   "source": [
    "# 4. 숫자 바꾸기"
   ]
  },
  {
   "cell_type": "markdown",
   "id": "12ca42db",
   "metadata": {},
   "source": [
    "재민이는 0과 1로 이루어진 카드 번호 C를 가지고 있다. 카드 번호 C의 숫자를 전부 같게 만들어야 하는데, 재민이가 할 수 있는 것은 카드 번호 C에서 연속된 하나 이상의 숫자를 잡고 모두 바꾸는 것이다. 바꾸는 것은 1을 0으로, 0을 1로 뒤집는 것을 의미한다.\n",
    "\n",
    "예를 들어 문자열 C가 00011000일 때,\n",
    "\n",
    "전체를 바꾸면 11100111이 된다.\n",
    "4번째 문자부터 5번째 문자까지 바꾸면 1111111이 되어서 2번 만에 모두 같은 숫자로 만들 수 있다.\n",
    "하지만, 처음부터 4번째 문자부터 5번째 문자를 바꾸면 한 번에 0000000이 되어서 1번 만에 같은 문자로 뒤집을 수 있다. 문자열이 주어졌을 때, 재민이가 해야 하는 행동의 최소 횟수를 출력 하시오.\n",
    "\n",
    "[입력 조건]\n",
    "\n",
    "첫째 줄에 카드 번호 C가 주어진다. 카드 번호 C의 길이는 100만보다 작다.\n",
    "\n",
    "[출력 조건]\n",
    "\n",
    "첫째 줄에 재민이가 해야 하는 행동의 최소 숫자를 출력한다."
   ]
  },
  {
   "cell_type": "code",
   "execution_count": 5,
   "id": "b1d446ce",
   "metadata": {},
   "outputs": [
    {
     "name": "stdout",
     "output_type": "stream",
     "text": [
      "1110011\n",
      "1\n"
     ]
    }
   ],
   "source": [
    "'''\n",
    " 4. 숫자 바꾸기 (순회)\n",
    "0으로 전환이 되는 횟수\n",
    "1으로 전환이 되는 횟수\n",
    "가 몇번인지를 세고 비교하면 된다.\n",
    "'''\n",
    "def sol(C, count_type):\n",
    "    count = 0\n",
    "\n",
    "    before_n = 1 if count_type == '0' else 0\n",
    "    for raw_n in C:\n",
    "        n = int(raw_n)\n",
    "\n",
    "        if(count_type == '0'): count += 1 if n == 0 and before_n == 1 else 0\n",
    "        if(count_type == '1'): count += 1 if n == 1 and before_n == 0 else 0\n",
    "        \n",
    "        before_n = n\n",
    "        \n",
    "    return count\n",
    "\n",
    "C = list(input())\n",
    "\n",
    "count_0 = sol(C, '0')\n",
    "count_1 = sol(C, '1')\n",
    "\n",
    "print(min(count_0, count_1))"
   ]
  },
  {
   "cell_type": "markdown",
   "id": "b6940c0e",
   "metadata": {},
   "source": [
    "# 5. 우영우수"
   ]
  },
  {
   "cell_type": "markdown",
   "id": "ecb9d6d3",
   "metadata": {},
   "source": [
    "영우는 자신의 이름과 같이 거꾸로 읽어도, 앞으로 읽어도 같은 수를 우영우수라고 부른다.\n",
    "\n",
    "예를 들어 121, 12421을 우영우수라고 할 수 있다. 123, 1231은 뒤에서부터 읽으면 다르므로 우영우수가 아니다.  이 문제에서는 010과 같이 앞에 무의미한 0이 오는 경우가 없다고 하자.\n",
    "\n",
    "[입력 조건]\n",
    "\n",
    "입력은 여러 개의 테스트 케이스로 이루어져 있으며, 각 줄마다 0보다 크고 100000보다 작은 수가 주어진다. 입력 마지막 줄에는 0이 주어지며, 이 줄은 문제에 포함되지 않는다.\n",
    "\n",
    "[출력 조건]\n",
    "\n",
    "각 줄마다 주어진 수가 우영우수면 ‘yes’, 아니면 ‘no’를 출력한다."
   ]
  },
  {
   "cell_type": "code",
   "execution_count": 7,
   "id": "9323ae3c",
   "metadata": {},
   "outputs": [
    {
     "name": "stdout",
     "output_type": "stream",
     "text": [
      "817\n",
      "no\n",
      "707\n",
      "yes\n",
      "0\n"
     ]
    }
   ],
   "source": [
    "'''\n",
    " 5. 우영우수 (팰린드롬)\n",
    "그냥 줄마다 구해주자\n",
    "'''\n",
    "\n",
    "while True:\n",
    "    raw_input = input()\n",
    "    if(raw_input == '0'): break\n",
    "    \n",
    "    new_line = list(raw_input)\n",
    "    length = len(new_line)\n",
    "    \n",
    "    flag = 1\n",
    "    for idx, val in enumerate(new_line):\n",
    "        if(idx + 1 > length // 2): break\n",
    "        if(new_line[length - (idx + 1)] != val): flag = 0\n",
    "\n",
    "    print('%s'%('yes' if flag else 'no'))\n"
   ]
  }
 ],
 "metadata": {
  "kernelspec": {
   "display_name": "Python 3 (ipykernel)",
   "language": "python",
   "name": "python3"
  },
  "language_info": {
   "codemirror_mode": {
    "name": "ipython",
    "version": 3
   },
   "file_extension": ".py",
   "mimetype": "text/x-python",
   "name": "python",
   "nbconvert_exporter": "python",
   "pygments_lexer": "ipython3",
   "version": "3.9.4"
  }
 },
 "nbformat": 4,
 "nbformat_minor": 5
}
