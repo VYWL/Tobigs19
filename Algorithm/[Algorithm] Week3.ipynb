{
 "cells": [
  {
   "cell_type": "markdown",
   "id": "e84c4c59",
   "metadata": {},
   "source": [
    "# 1. 숫자카드"
   ]
  },
  {
   "attachments": {},
   "cell_type": "markdown",
   "id": "2295c7aa",
   "metadata": {},
   "source": [
    "<img src='https://media.discordapp.net/attachments/802076592825827332/1077597560358846497/image.png?width=1036&height=242' alt=''/>"
   ]
  },
  {
   "cell_type": "code",
   "execution_count": 3,
   "id": "77da555f",
   "metadata": {},
   "outputs": [
    {
     "name": "stdout",
     "output_type": "stream",
     "text": [
      "10 500\n",
      "93 181 245 214 315 36 185 138 216 295\n",
      "497\n"
     ]
    }
   ],
   "source": [
    "'''\n",
    " 1. 숫자카드 (완전탐색)\n",
    " 3중 포문으로 겹치지 않게, (i, j, k) 순서쌍을 뽑아서, \n",
    " 가장 작은 distance를 갖는 결과를 뽑아내면 됨.\n",
    "'''\n",
    "# Variables\n",
    "N, M = map(int, input().split())\n",
    "card = list(map(int, input().split()))\n",
    "ans = 0\n",
    "\n",
    "# Logic\n",
    "for i in range(N - 2):\n",
    "    for j in range(i+1, N - 1):\n",
    "        for k in range(j+1, N):\n",
    "            now_combination = card[i] + card[j] + card[k]\n",
    "            \n",
    "            if(now_combination <= M): \n",
    "                ans = max(ans, now_combination)\n",
    "                \n",
    "# Output\n",
    "print(ans)"
   ]
  },
  {
   "cell_type": "markdown",
   "id": "24417d2b",
   "metadata": {},
   "source": [
    "# 2. 방탈출 게임"
   ]
  },
  {
   "cell_type": "markdown",
   "id": "ea4c49c8",
   "metadata": {},
   "source": [
    "<img src='https://media.discordapp.net/attachments/802076592825827332/1077598847284555827/image.png?width=1036&height=629' alt='방탈출 게임' />"
   ]
  },
  {
   "cell_type": "code",
   "execution_count": 28,
   "id": "8cdfac73",
   "metadata": {},
   "outputs": [
    {
     "name": "stdout",
     "output_type": "stream",
     "text": [
      "\"17\"\n",
      "3\n"
     ]
    }
   ],
   "source": [
    "'''\n",
    " 2. 방탈출 게임 (완전 탐색, 정수론_소수)\n",
    " 소수 판별식(isPrime) 함수도 필요하고. 문자열을 조합할수도 있어야함. (순서 중요)\n",
    " O(n * nCr) 정도..?\n",
    " 7 fac => 5040 이므로 조합을 구해서 해도 되겠다.\n",
    "'''\n",
    "# Library\n",
    "from itertools import permutations\n",
    "\n",
    "# Functions\n",
    "def makeSubset(_list, length):\n",
    "    result = set()\n",
    "    \n",
    "    for len in range(1, length + 1):\n",
    "        raw_comb = list(permutations(_list, len))\n",
    "        refined_comb = list(map(lambda x: result.add(int(\"\".join(x))), raw_comb))\n",
    "    \n",
    "    return list(result)\n",
    "\n",
    "def isPrime(n):\n",
    "    if n < 2: return 0\n",
    "    \n",
    "    for i in range(2, n):\n",
    "        if n % i == 0: return 0\n",
    "        if i * i > n: break\n",
    "            \n",
    "    return 1\n",
    "\n",
    "# init\n",
    "input_list = [char for char in input().replace('\\\"', '')]\n",
    "total_set = makeSubset(input_list, len(input_list))\n",
    "\n",
    "ans_count = 0\n",
    "\n",
    "# Logic\n",
    "for now_number in total_set:\n",
    "    ans_count += isPrime(now_number)\n",
    "             \n",
    "print(ans_count)   "
   ]
  },
  {
   "cell_type": "markdown",
   "id": "316e14e0",
   "metadata": {},
   "source": [
    "# 3. 티셔츠 갈아입기 게임"
   ]
  },
  {
   "attachments": {},
   "cell_type": "markdown",
   "id": "9505b31d",
   "metadata": {},
   "source": [
    "<img src='https://media.discordapp.net/attachments/802076592825827332/1077599295013920869/image.png?width=1036&height=253' alt='티셔츠 갈아입기 게임' />"
   ]
  },
  {
   "cell_type": "code",
   "execution_count": 39,
   "id": "65c0a9c3",
   "metadata": {},
   "outputs": [
    {
     "name": "stdout",
     "output_type": "stream",
     "text": [
      "10 13\n",
      "RRRRRRRRBRBRB\n",
      "RRRRRRRRRBRBR\n",
      "RRRRRRRRBRBRB\n",
      "RRRRRRRRRBRBR\n",
      "RRRRRRRRBRBRB\n",
      "RRRRRRRRRBRBR\n",
      "RRRRRRRRBRBRB\n",
      "RRRRRRRRRBRBR \n",
      "BBBBBBBBBBRBR \n",
      "BBBBBBBBBBRBR\n",
      "12\n"
     ]
    }
   ],
   "source": [
    "'''\n",
    " 3. 티셔츠 갈아입기 게임 (완탐, 삽노가다)\n",
    " 그냥.. 탐색 탐색 탐탐색\n",
    " 팁이 있자면, 투빅이의 위치가 (row, col)일때, row+col이 홀인지 짝인지에 따라 R, B를 구분할 수 있다는 것.\n",
    " 이웃을 볼 필요도 없이, 본인 자리랑 첫 위치의 친구가 무슨색이었는지만 알면 그냥 64번 순회하면 된다는 말씀.\n",
    " O(N^2) 인데 차피 50 이내이므로 걍 구현만 하면 됨.\n",
    "'''\n",
    "# Functions\n",
    "def checker(st_r, st_c, limit_r, limit_c, init_color, box): # 0-index\n",
    "    mode = init_color # 1 : R, 0 : B\n",
    "    \n",
    "    # 기저조건 => 순회 가능한 박스인지 조회\n",
    "    isRowOB = st_r + 7 > limit_r\n",
    "    isColOB = st_c + 7 > limit_c\n",
    "    if(isRowOB or isColOB): return -1\n",
    "    \n",
    "    total_count = 0\n",
    "    \n",
    "    for r_idx in range(st_r, st_r + 8):\n",
    "        for c_idx in range(st_c, st_c + 8):\n",
    "            nowC = (r_idx + c_idx + mode) % 2\n",
    "            \n",
    "            if(nowC != box[r_idx][c_idx]): total_count += 1\n",
    "    \n",
    "    return total_count\n",
    "\n",
    "# init\n",
    "M, N = map(int, input().split())\n",
    "box = [list(map(lambda x: 1 if x=='B' else 0, list(input()))) for _ in range(M)]\n",
    "\n",
    "ans = 64 + 1\n",
    "\n",
    "for check_r in range(M):\n",
    "    for check_c in range(N):\n",
    "        mod_1 = checker(check_r, check_c, M - 1, N - 1, 1, box)\n",
    "        mod_2 = checker(check_r, check_c, M - 1, N - 1, 2, box)\n",
    "        \n",
    "        if(mod_1 == -1 or mod_2 == -1): continue\n",
    "        \n",
    "        ans = min(min(mod_1, mod_2), ans)\n",
    "        \n",
    "print(ans)"
   ]
  },
  {
   "cell_type": "markdown",
   "id": "894291b3",
   "metadata": {},
   "source": [
    "# 4. 일곱 투빅이들"
   ]
  },
  {
   "cell_type": "markdown",
   "id": "12ca42db",
   "metadata": {},
   "source": [
    "<img src='https://media.discordapp.net/attachments/802076592825827332/1077599807075528795/image.png?width=1036&height=251' alt='일곱 투빅이들' />"
   ]
  },
  {
   "cell_type": "code",
   "execution_count": 48,
   "id": "b1d446ce",
   "metadata": {},
   "outputs": [
    {
     "name": "stdout",
     "output_type": "stream",
     "text": [
      "200\n",
      "70\n",
      "230\n",
      "190\n",
      "100\n",
      "150\n",
      "250\n",
      "80\n",
      "130\n",
      "70\n",
      "80\n",
      "100\n",
      "130\n",
      "190\n",
      "200\n",
      "230\n"
     ]
    }
   ],
   "source": [
    "'''\n",
    " 4. 일곱 투빅이들 (어디서 많이본 문제다. 단순 완전탐색)\n",
    " 걍 9C7이 어려우니, 9C2를 해서 전체에서 빼보자.\n",
    "'''\n",
    "# Library\n",
    "from itertools import combinations\n",
    "from functools import reduce\n",
    "\n",
    "# init\n",
    "tobigs = [int(input()) for _ in range(9)]\n",
    "tobigs.sort()\n",
    "accSum = reduce(lambda acc, cur : acc + cur, tobigs, 0)\n",
    "\n",
    "# Logic\n",
    "for comb in combinations(tobigs, 2):\n",
    "    _1, _2 = comb\n",
    "    if(accSum - _1 - _2 == 100): \n",
    "        tobigs.remove(_1)\n",
    "        tobigs.remove(_2)\n",
    "        break\n",
    "        \n",
    "print(\"\\n\".join(str(tobig) for tobig in tobigs))"
   ]
  },
  {
   "cell_type": "markdown",
   "id": "b6940c0e",
   "metadata": {},
   "source": [
    "# 5. 단어 분할"
   ]
  },
  {
   "cell_type": "markdown",
   "id": "ecb9d6d3",
   "metadata": {},
   "source": [
    "<img src='https://media.discordapp.net/attachments/802076592825827332/1077600127952363520/image.png?width=1036&height=263' alt='단어 분할' />"
   ]
  },
  {
   "cell_type": "code",
   "execution_count": 57,
   "id": "9323ae3c",
   "metadata": {},
   "outputs": [
    {
     "name": "stdout",
     "output_type": "stream",
     "text": [
      "tobigs\n",
      "botgis\n"
     ]
    }
   ],
   "source": [
    "'''\n",
    " 5. 단어 분할 (완전 탐색)\n",
    " 다 아는거니까 그냥 짧게 적어보자\n",
    "'''\n",
    "def part_reversed(i, j, word):\n",
    "    return list(reversed(word[:i])) + list(reversed(word[i:j])) + list(reversed(word[j:]))\n",
    "\n",
    "word = list(input())\n",
    "answer = [''.join(part_reversed(i, j, word)) for i in range(1, len(word) - 1) for j in range(i + 1, len(word))]\n",
    "\n",
    "print(sorted(answer)[0])"
   ]
  }
 ],
 "metadata": {
  "kernelspec": {
   "display_name": "Python 3 (ipykernel)",
   "language": "python",
   "name": "python3"
  },
  "language_info": {
   "codemirror_mode": {
    "name": "ipython",
    "version": 3
   },
   "file_extension": ".py",
   "mimetype": "text/x-python",
   "name": "python",
   "nbconvert_exporter": "python",
   "pygments_lexer": "ipython3",
   "version": "3.9.4"
  }
 },
 "nbformat": 4,
 "nbformat_minor": 5
}
