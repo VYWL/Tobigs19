{
 "cells": [
  {
   "cell_type": "markdown",
   "id": "e84c4c59",
   "metadata": {},
   "source": [
    "# 1. 222-풀링 (BOJ17829)"
   ]
  },
  {
   "cell_type": "markdown",
   "id": "2295c7aa",
   "metadata": {},
   "source": [
    "<img src='https://media.discordapp.net/attachments/802076592825827332/1085220903488585728/image.png' alt='222-풀링 (BOJ17829)'/>"
   ]
  },
  {
   "cell_type": "code",
   "execution_count": 1,
   "id": "77da555f",
   "metadata": {},
   "outputs": [
    {
     "name": "stdout",
     "output_type": "stream",
     "text": [
      "4\n",
      "-6 -8 7 -4\n",
      "-5 -5 14 11\n",
      "11 11 -1 -1\n",
      "4 9 -2 -4\n",
      "11\n"
     ]
    }
   ],
   "source": [
    "'''\n",
    " 1. 222-풀링 (분할 정복)\n",
    " 2번째로 큰 수를 구하는 함수는 길게 적긴 좀 그래서 그냥 구현.\n",
    "'''\n",
    "# Functions    \n",
    "def second_largest(lst):\n",
    "    sorted_lst = sorted(lst, reverse=True)\n",
    "    return sorted_lst[1]\n",
    "\n",
    "def pooling(matrix):\n",
    "    n = len(matrix)\n",
    "    if n == 1: return matrix[0][0]\n",
    "    \n",
    "    sub_matrices = [[matrix[i][j:j+2] for i in range(k, k+2)] for j in range(0, n, 2) for k in range(0, n, 2)]\n",
    "     \n",
    "    second_largest_vals = [second_largest([val for sublist in sub_matrix for val in sublist]) for sub_matrix in sub_matrices]\n",
    "    \n",
    "    new_matrix = [second_largest_vals[i:i+n//2] for i in range(0, n**2//4, n//2)]\n",
    "    \n",
    "    return pooling(new_matrix)\n",
    "\n",
    "# Logic & Output\n",
    "n = int(input())\n",
    "matrix = [list(map(int, input().split())) for _ in range(n)]\n",
    "print(pooling(matrix))"
   ]
  },
  {
   "cell_type": "markdown",
   "id": "24417d2b",
   "metadata": {},
   "source": [
    "# 2. 색종이 만들기 (BOJ2630)"
   ]
  },
  {
   "cell_type": "markdown",
   "id": "ea4c49c8",
   "metadata": {},
   "source": [
    "<img src='https://media.discordapp.net/attachments/802076592825827332/1085223076624605234/image.png' alt='색종이 만들기 (BOJ2630)' />"
   ]
  },
  {
   "cell_type": "code",
   "execution_count": 2,
   "id": "8cdfac73",
   "metadata": {},
   "outputs": [
    {
     "name": "stdout",
     "output_type": "stream",
     "text": [
      "8\n",
      "1 1 0 0 0 0 1 1\n",
      "1 1 0 0 0 0 1 1\n",
      "0 0 0 0 1 1 0 0\n",
      "0 0 0 0 1 1 0 0\n",
      "1 0 0 0 1 1 1 1\n",
      "0 1 0 0 1 1 1 1\n",
      "0 0 1 1 1 1 1 1\n",
      "0 0 1 1 1 1 1 1\n",
      "9\n",
      "7\n"
     ]
    }
   ],
   "source": [
    "'''\n",
    " 2. 색종이 만들기 (분할 정복)\n",
    "'''\n",
    "# Functions\n",
    "def count_paper(x, y, n):\n",
    "    # Basis\n",
    "    if n == 1:\n",
    "        return [0, 1] if paper[x][y] == 1 else [1, 0]\n",
    "\n",
    "    # Check\n",
    "    flag = True\n",
    "    for i in range(x, x+n):\n",
    "        for j in range(y, y+n):\n",
    "            if paper[i][j] != paper[x][y]:\n",
    "                flag = False\n",
    "                break\n",
    "        if not flag:\n",
    "            break\n",
    "\n",
    "    # Count\n",
    "    if not flag:\n",
    "        white = count_paper(x, y, n//2)\n",
    "        blue = count_paper(x, y+n//2, n//2)\n",
    "        green = count_paper(x+n//2, y, n//2)\n",
    "        red = count_paper(x+n//2, y+n//2, n//2)\n",
    "        return [white[i]+blue[i]+green[i]+red[i] for i in range(2)]\n",
    "\n",
    "    return [0, 1] if paper[x][y] == 1 else [1, 0]\n",
    "\n",
    "# Input\n",
    "N = int(input())\n",
    "paper = [list(map(int, input().split())) for _ in range(N)]\n",
    "\n",
    "\n",
    "\n",
    "# Output\n",
    "white, blue = count_paper(0, 0, N)\n",
    "print(white)\n",
    "print(blue) "
   ]
  },
  {
   "cell_type": "markdown",
   "id": "316e14e0",
   "metadata": {},
   "source": [
    "# 3. 종이의 개수 (BOJ1780)"
   ]
  },
  {
   "cell_type": "markdown",
   "id": "9505b31d",
   "metadata": {},
   "source": [
    "<img src='https://media.discordapp.net/attachments/802076592825827332/1085225081992642570/image.png' alt='종이의 개수 (BOJ1780)' />"
   ]
  },
  {
   "cell_type": "code",
   "execution_count": 3,
   "id": "65c0a9c3",
   "metadata": {
    "scrolled": true
   },
   "outputs": [
    {
     "name": "stdout",
     "output_type": "stream",
     "text": [
      "9\n",
      "0 0 0 1 1 1 -1 -1 -1\n",
      "0 0 0 1 1 1 -1 -1 -1\n",
      "0 0 0 1 1 1 -1 -1 -1\n",
      "1 1 1 0 0 0 0 0 0\n",
      "1 1 1 0 0 0 0 0 0\n",
      "1 1 1 0 0 0 0 0 0\n",
      "0 1 -1 0 1 -1 0 1 -1\n",
      "0 -1 1 0 1 -1 0 1 -1\n",
      "0 1 -1 0 1 -1 0 1 -1\n",
      "10\n",
      "12\n",
      "11\n"
     ]
    }
   ],
   "source": [
    "'''\n",
    " 3. 종이의 개수 (분할정복, 재귀)\n",
    " 재귀적으로 나누어 나감으로써, 각 조각이 모두 같은 수로 되어 있는지 판별\n",
    " 같은 수로 되어 있지 않다면, 9조각으로 자르기\n",
    " 3중 반복문을 이용한 종이 검사\n",
    "'''\n",
    "# Input & Variables\n",
    "n = int(input())\n",
    "paper = [list(map(int, input().split())) for _ in range(n)]\n",
    "result = [0, 0, 0]  # -1, 0, 1 종이 개수를 담을 리스트\n",
    "\n",
    "# Functions\n",
    "def check(x, y, size):\n",
    "    num = paper[x][y]  # 첫 번째 원소와 같은 수로 이루어져 있는지 체크\n",
    "    for i in range(x, x + size):\n",
    "        for j in range(y, y + size):\n",
    "            if paper[i][j] != num:\n",
    "                return False\n",
    "    return True\n",
    "\n",
    "def cut(x, y, size):\n",
    "    if check(x, y, size):\n",
    "        result[paper[x][y] + 1] += 1  # -1, 0, 1을 각각 0, 1, 2로 처리하기 위해 인덱스 조정\n",
    "    else:\n",
    "        for i in range(3):\n",
    "            for j in range(3):\n",
    "                cut(x + size//3*i, y + size//3*j, size//3)\n",
    "\n",
    "# Logic & Output\n",
    "cut(0, 0, n)\n",
    "for res in result:\n",
    "    print(res)"
   ]
  },
  {
   "cell_type": "markdown",
   "id": "894291b3",
   "metadata": {},
   "source": [
    "# 4. 쿼드트리 (BOJ1992)"
   ]
  },
  {
   "cell_type": "markdown",
   "id": "12ca42db",
   "metadata": {},
   "source": [
    "<img src='https://media.discordapp.net/attachments/802076592825827332/1085228594042769468/image.png' alt='쿼드트리 (BOJ1992)' />"
   ]
  },
  {
   "cell_type": "code",
   "execution_count": 4,
   "id": "b1d446ce",
   "metadata": {},
   "outputs": [
    {
     "name": "stdout",
     "output_type": "stream",
     "text": [
      "8\n",
      "11110000\n",
      "11110000\n",
      "00011100\n",
      "00011100\n",
      "11110000\n",
      "11110000\n",
      "11110011\n",
      "11110011\n",
      "((110(0101))(0010)1(0001))\n"
     ]
    }
   ],
   "source": [
    "'''\n",
    " 4. 쿼드트리 (구현, 분할 정복, 재귀)\n",
    " 주어진 영상을 쿼드 트리 구조를 이용하여 압축하는 문제\n",
    " 모두 0으로 되어 있으면 \"0\", 모두 1로 되어 있으면 \"1\"을 출력\n",
    " 0과 1이 섞여 있으면 4개의 영상으로 분할하여 각각 압축\n",
    " 분할하여 압축한 결과를 괄호 안에 묶어서 출력\n",
    "'''\n",
    "# Function\n",
    "def compress(x, y, n):\n",
    "    if n == 1:\n",
    "        return video[x][y]\n",
    "\n",
    "    result = []\n",
    "    for i in range(x, x + n):\n",
    "        for j in range(y, y + n):\n",
    "            if video[i][j] != video[x][y]:\n",
    "                result.append('(')\n",
    "                result.extend(compress(x, y, n//2))\n",
    "                result.extend(compress(x, y+n//2, n//2))\n",
    "                result.extend(compress(x+n//2, y, n//2))\n",
    "                result.extend(compress(x+n//2, y+n//2, n//2))\n",
    "                result.append(')')\n",
    "                return result\n",
    "    return video[x][y]\n",
    "\n",
    "# Input\n",
    "N = int(input())\n",
    "video = [input() for _ in range(N)]\n",
    "\n",
    "# Logic & Output\n",
    "result = compress(0, 0, N)\n",
    "print(''.join(result))\n"
   ]
  }
 ],
 "metadata": {
  "kernelspec": {
   "display_name": "Python 3 (ipykernel)",
   "language": "python",
   "name": "python3"
  },
  "language_info": {
   "codemirror_mode": {
    "name": "ipython",
    "version": 3
   },
   "file_extension": ".py",
   "mimetype": "text/x-python",
   "name": "python",
   "nbconvert_exporter": "python",
   "pygments_lexer": "ipython3",
   "version": "3.9.4"
  }
 },
 "nbformat": 4,
 "nbformat_minor": 5
}
