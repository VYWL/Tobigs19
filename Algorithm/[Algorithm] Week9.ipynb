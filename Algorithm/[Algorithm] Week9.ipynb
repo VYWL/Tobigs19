{
 "cells": [
  {
   "cell_type": "markdown",
   "id": "e84c4c59",
   "metadata": {},
   "source": [
    "# 1. 동전 0 (BOJ11047)"
   ]
  },
  {
   "cell_type": "markdown",
   "id": "2295c7aa",
   "metadata": {},
   "source": [
    "<img src='https://media.discordapp.net/attachments/802076592825827332/1085567038451359855/image.png' alt='동전 0 (BOJ11047)'/>"
   ]
  },
  {
   "cell_type": "code",
   "execution_count": 1,
   "id": "77da555f",
   "metadata": {},
   "outputs": [
    {
     "name": "stdout",
     "output_type": "stream",
     "text": [
      "10 4200\n",
      "1\n",
      "5\n",
      "10\n",
      "50\n",
      "100\n",
      "500\n",
      "1000\n",
      "5000\n",
      "10000\n",
      "50000\n",
      "6\n"
     ]
    }
   ],
   "source": [
    "'''\n",
    " 1. 동전 0 (그리디)\n",
    " 정말 그리디 하게 큰거부터 나눠주면 된다.\n",
    "'''\n",
    "# Input & variables\n",
    "ans = 0\n",
    "N, K = map(int, input().split()) \n",
    "coin = [ int(input()) for _ in range(N)]\n",
    "\n",
    "# Logic\n",
    "for i in reversed(range(N)):\n",
    "    ans += K // coin[i] \n",
    "    K %= coin[i]\n",
    "\n",
    "# Output\n",
    "print(ans)"
   ]
  },
  {
   "cell_type": "markdown",
   "id": "24417d2b",
   "metadata": {},
   "source": [
    "# 2. 회의실 배정 (BOJ1931)"
   ]
  },
  {
   "cell_type": "markdown",
   "id": "ea4c49c8",
   "metadata": {},
   "source": [
    "<img src='https://media.discordapp.net/attachments/802076592825827332/1085568436354170900/image.png' alt='회의실 배정 (BOJ1931)' />"
   ]
  },
  {
   "cell_type": "code",
   "execution_count": 2,
   "id": "8cdfac73",
   "metadata": {},
   "outputs": [
    {
     "name": "stdout",
     "output_type": "stream",
     "text": [
      "11\n",
      "1 4\n",
      "3 5\n",
      "0 6\n",
      "5 7\n",
      "3 8\n",
      "5 9\n",
      "6 10\n",
      "8 11\n",
      "8 12\n",
      "2 13\n",
      "12 14\n",
      "4\n"
     ]
    }
   ],
   "source": [
    "'''\n",
    " 2. 회의실 배정 (그리디)\n",
    " 가능한 많은 회의를 선택해야 하므로 끝나는 시간을 기준으로 회의를 정렬한 뒤, \n",
    " 이전 회의가 끝난 시점 이후에 시작하는 회의 중 끝나는 시간이 가장 빠른 회의를 선택한다.\n",
    "'''\n",
    "# Input & Variables\n",
    "n = int(input())\n",
    "meetings = []\n",
    "\n",
    "# Logic\n",
    "for _ in range(n):\n",
    "    start, end = map(int, input().split())\n",
    "    meetings.append((start, end))\n",
    "    \n",
    "meetings = sorted(meetings, key=lambda x: (x[1], x[0]))\n",
    "count = 1\n",
    "end_time = meetings[0][1]\n",
    "for i in range(1, n):\n",
    "    if meetings[i][0] >= end_time:  # 이전 회의가 끝난 시점 이후에 시작하는 회의 중 가장 빨리 끝나는 회의 선택\n",
    "        count += 1\n",
    "        end_time = meetings[i][1]\n",
    "\n",
    "# Output\n",
    "print(count)"
   ]
  },
  {
   "cell_type": "markdown",
   "id": "316e14e0",
   "metadata": {},
   "source": [
    "# 3. ATM (BOJ11399)"
   ]
  },
  {
   "cell_type": "markdown",
   "id": "9505b31d",
   "metadata": {},
   "source": [
    "<img src='https://media.discordapp.net/attachments/802076592825827332/1085569018808782919/image.png' alt='ATM (BOJ11399)' />"
   ]
  },
  {
   "cell_type": "code",
   "execution_count": 3,
   "id": "65c0a9c3",
   "metadata": {
    "scrolled": true
   },
   "outputs": [
    {
     "name": "stdout",
     "output_type": "stream",
     "text": [
      "5\n",
      "3 1 4 3 2\n",
      "32\n"
     ]
    }
   ],
   "source": [
    "'''\n",
    " 3. ATM (그리디)\n",
    " 사람들의 시간이 적은 순서대로 대기열을 정렬하여 처리하며 각 사람이 돈을 인출하는 데 필요한 시간의 합의 최솟값을 구한다.\n",
    "'''\n",
    "# Input\n",
    "n = int(input())\n",
    "times = list(map(int, input().split()))\n",
    "\n",
    "# Logic\n",
    "times.sort()\n",
    "total_time = 0\n",
    "\n",
    "for i in range(n):\n",
    "    total_time += times[i]*(n-i)\n",
    "\n",
    "# Output\n",
    "print(total_time)"
   ]
  },
  {
   "cell_type": "markdown",
   "id": "894291b3",
   "metadata": {},
   "source": [
    "# 4. DNA (BOJ1969)"
   ]
  },
  {
   "cell_type": "markdown",
   "id": "12ca42db",
   "metadata": {},
   "source": [
    "<img src='https://media.discordapp.net/attachments/802076592825827332/1085571638210347118/image.png' alt='DNA (BOJ1969)' />"
   ]
  },
  {
   "cell_type": "code",
   "execution_count": 4,
   "id": "b1d446ce",
   "metadata": {},
   "outputs": [
    {
     "name": "stdout",
     "output_type": "stream",
     "text": [
      "5 8\n",
      "TATGATAC\n",
      "TAAGCTAC\n",
      "AAAGATCC\n",
      "TGAGATAC\n",
      "TAAGATGT\n",
      "TAAGATAC\n",
      "7\n"
     ]
    }
   ],
   "source": [
    "'''\n",
    " 4. DNA (그리디)\n",
    "'''\n",
    "# Input\n",
    "n, m = map(int, input().split())\n",
    "dna_list = [input() for _ in range(n)]\n",
    "\n",
    "result = []\n",
    "count = 0\n",
    "\n",
    "# Logic\n",
    "for i in range(m):\n",
    "    dna_dict = {'A':0, 'C':0, 'G':0, 'T':0}\n",
    "    for dna in dna_list:\n",
    "        dna_dict[dna[i]] += 1\n",
    "    max_dna = max(dna_dict, key=dna_dict.get)\n",
    "    result.append(max_dna)\n",
    "    count += sum(dna_dict.values()) - dna_dict[max_dna]\n",
    "                \n",
    "# Output\n",
    "print(''.join(result))\n",
    "print(count)\n"
   ]
  }
 ],
 "metadata": {
  "kernelspec": {
   "display_name": "Python 3 (ipykernel)",
   "language": "python",
   "name": "python3"
  },
  "language_info": {
   "codemirror_mode": {
    "name": "ipython",
    "version": 3
   },
   "file_extension": ".py",
   "mimetype": "text/x-python",
   "name": "python",
   "nbconvert_exporter": "python",
   "pygments_lexer": "ipython3",
   "version": "3.9.4"
  }
 },
 "nbformat": 4,
 "nbformat_minor": 5
}
