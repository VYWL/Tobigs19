{
 "cells": [
  {
   "cell_type": "markdown",
   "id": "e84c4c59",
   "metadata": {},
   "source": [
    "# 1. 1,2,3 더하기 (BOJ9095)"
   ]
  },
  {
   "cell_type": "markdown",
   "id": "2295c7aa",
   "metadata": {},
   "source": [
    "<img src='https://media.discordapp.net/attachments/802076592825827332/1077909032951611463/image.png' alt='1,2,3 더하기 (BOJ9095)'/>"
   ]
  },
  {
   "cell_type": "code",
   "execution_count": 7,
   "id": "77da555f",
   "metadata": {},
   "outputs": [
    {
     "name": "stdout",
     "output_type": "stream",
     "text": [
      "3\n",
      "4\n",
      "7\n",
      "7\n",
      "44\n",
      "10\n",
      "274\n"
     ]
    }
   ],
   "source": [
    "'''\n",
    " 1. 1,2,3 더하기 (선형DP)\n",
    " 점화식 찾아서 기저조건, Memoization과 함께 넣어주면 됨.\n",
    "'''\n",
    "# Variables\n",
    "DP = [0 for a in range(150)]\n",
    "T = int(input())\n",
    "\n",
    "# Functions\n",
    "def solve(n):\n",
    "    if(n <  0): return 0\n",
    "    if(n <= 1): return 1\n",
    "    if(DP[n]) : return DP[n]\n",
    "    \n",
    "    DP[n] = solve(n - 3) + solve(n - 2) + solve(n - 1) \n",
    "    \n",
    "    return DP[n]\n",
    "\n",
    "# Logic & Output\n",
    "for _ in range(T):\n",
    "    n = int(input())\n",
    "    print(solve(n))"
   ]
  },
  {
   "cell_type": "markdown",
   "id": "24417d2b",
   "metadata": {},
   "source": [
    "# 2. 1로 만들기 (BOJ1463)"
   ]
  },
  {
   "cell_type": "markdown",
   "id": "ea4c49c8",
   "metadata": {},
   "source": [
    "<img src='https://media.discordapp.net/attachments/802076592825827332/1077909250371764234/image.png?width=1036&height=273' alt='1로 만들기 (BOJ1463)' />"
   ]
  },
  {
   "cell_type": "code",
   "execution_count": 8,
   "id": "8cdfac73",
   "metadata": {},
   "outputs": [
    {
     "name": "stdout",
     "output_type": "stream",
     "text": [
      "10\n",
      "3\n"
     ]
    }
   ],
   "source": [
    "'''\n",
    " 2. 1로 만들기 (선형 DP)\n",
    " 1과 동일\n",
    "'''\n",
    "# Variables\n",
    "MM = 1000001\n",
    "N = int(input())\n",
    "DP = [0 for _ in range(MM)]\n",
    "\n",
    "# Logic\n",
    "for idx in range(2, N + 1):\n",
    "    DP[idx] = DP[idx - 1] + 1\n",
    "    if (idx % 2 == 0): DP[idx] = min(DP[idx], DP[idx // 2] + 1)\n",
    "    if (idx % 3 == 0): DP[idx] = min(DP[idx], DP[idx // 3] + 1)\n",
    "\n",
    "# Output\n",
    "print(DP[N])   "
   ]
  },
  {
   "cell_type": "markdown",
   "id": "316e14e0",
   "metadata": {},
   "source": [
    "# 3. 계단 오르기 (BOJ2579)"
   ]
  },
  {
   "cell_type": "markdown",
   "id": "9505b31d",
   "metadata": {},
   "source": [
    "<img src='https://media.discordapp.net/attachments/802076592825827332/1077913647730393128/image.png?width=1036&height=266' alt='계단 오르기 (BOJ2579)' />"
   ]
  },
  {
   "cell_type": "code",
   "execution_count": 11,
   "id": "65c0a9c3",
   "metadata": {},
   "outputs": [
    {
     "name": "stdout",
     "output_type": "stream",
     "text": [
      "6\n",
      "10\n",
      "20\n",
      "15\n",
      "25\n",
      "10\n",
      "20\n",
      "75\n"
     ]
    }
   ],
   "source": [
    "'''\n",
    " 3. 계단 오르기 (BOJ2579)\n",
    " 영차 영차\n",
    "'''\n",
    "# Variables\n",
    "MM = 3005\n",
    "ORM = [0]\n",
    "DP = [0 for _ in range(MM)]\n",
    "N = int(input())\n",
    "_input = [int(input()) for _ in range(N)]\n",
    "\n",
    "# init\n",
    "ORM = ORM + _input\n",
    "if(N < 5): ORM = ORM + [0,0,0,0,0] # 걍 Index 예외처리 귀찮아서 이렇게함\n",
    "\n",
    "DP[1] = ORM[1]\n",
    "DP[2] = DP[1] + ORM[2]\n",
    "DP[3] = max(ORM[1] + ORM[3], ORM[2] + ORM[3])\n",
    "\n",
    "# Logic\n",
    "for idx in range (4, N + 1):\n",
    "    DP[idx] = max(DP[idx - 3] + ORM[idx] + ORM[idx - 1], DP[idx - 2] + ORM[idx])\n",
    "\n",
    "# Output\n",
    "print(DP[N])"
   ]
  },
  {
   "cell_type": "markdown",
   "id": "894291b3",
   "metadata": {},
   "source": [
    "# 4. 포도주 시식 (BOJ2156)"
   ]
  },
  {
   "cell_type": "markdown",
   "id": "12ca42db",
   "metadata": {},
   "source": [
    "<img src='https://media.discordapp.net/attachments/802076592825827332/1077918938626797629/image.png?width=1036&height=279' alt='포도주 시식 (BOJ2156)' />"
   ]
  },
  {
   "cell_type": "code",
   "execution_count": null,
   "id": "b1d446ce",
   "metadata": {},
   "outputs": [],
   "source": [
    "'''\n",
    " 4. 포도주 시식 (선형DP)\n",
    " 그냥 케이스 고려해서 선형 점화식 만들면 문제가 없다.\n",
    " 으로 해보자.\n",
    "'''\n",
    "# Variables\n",
    "N = int(input())\n",
    "orm = [0] + [int(input()) for _ in range(N)]\n",
    "\n",
    "# Init\n",
    "dp = [0, orm[1]]\n",
    "\n",
    "# Logic\n",
    "if N > 1: dp.append(orm[1] + orm[2])\n",
    "for i in range(3, N + 1):\n",
    "    dp_i = max(dp[i - 3] + orm[i - 1] + orm[i], dp[i - 2] + orm[i], dp[i - 1])\n",
    "    dp.append(dp_i)\n",
    "\n",
    "# 결과 출력\n",
    "print(dp[N])"
   ]
  },
  {
   "cell_type": "markdown",
   "id": "b6940c0e",
   "metadata": {},
   "source": [
    "# 5. 동전 1 (BOJ2293)"
   ]
  },
  {
   "cell_type": "markdown",
   "id": "ecb9d6d3",
   "metadata": {},
   "source": [
    "<img src='https://media.discordapp.net/attachments/802076592825827332/1077921095371464744/image.png?width=1036&height=278' alt='동전 1 (BOJ2293)' />"
   ]
  },
  {
   "cell_type": "code",
   "execution_count": null,
   "id": "9323ae3c",
   "metadata": {},
   "outputs": [],
   "source": [
    "'''\n",
    " 5. 동전 1 (선형 DP)\n",
    " 다 아는거니까 그냥 짧게 적어보자\n",
    " 동전의 종류별로 순회하면서, 값을 갱신하면 되는 문제다.\n",
    "'''\n",
    "N, K = map(int, input().split())\n",
    "val = [int(input()) for _ in range(N)]\n",
    "\n",
    "dp = [0] * (K + 1)\n",
    "dp[0] = 1\n",
    "\n",
    "for coin_value in val:\n",
    "    for j in range(coin_value, K + 1):\n",
    "        if j >= coin_value:\n",
    "            dp[j] += dp[j - coin_value]\n",
    "\n",
    "print(dp[K])"
   ]
  },
  {
   "cell_type": "code",
   "execution_count": null,
   "id": "3dcecb87",
   "metadata": {},
   "outputs": [],
   "source": []
  }
 ],
 "metadata": {
  "kernelspec": {
   "display_name": "Python 3 (ipykernel)",
   "language": "python",
   "name": "python3"
  },
  "language_info": {
   "codemirror_mode": {
    "name": "ipython",
    "version": 3
   },
   "file_extension": ".py",
   "mimetype": "text/x-python",
   "name": "python",
   "nbconvert_exporter": "python",
   "pygments_lexer": "ipython3",
   "version": "3.9.4"
  }
 },
 "nbformat": 4,
 "nbformat_minor": 5
}
