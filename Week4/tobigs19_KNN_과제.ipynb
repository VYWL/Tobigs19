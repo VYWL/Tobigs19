{
 "cells": [
  {
   "cell_type": "markdown",
   "metadata": {
    "id": "_PTZ7GaPe4PF"
   },
   "source": [
    "# 19기 KNN 정규세션 과제"
   ]
  },
  {
   "cell_type": "markdown",
   "metadata": {
    "id": "3OFNeO0Ie4PH"
   },
   "source": [
    "## KNN 구현해보기\n",
    "### 1. Preprocssing / EDA\n",
    "지금까지 배운 내용을 토대로 해당 데이터에 대해 자유롭게 전처리와 EDA를 진행해주세요.\n",
    "### 2. KNN 구현 & 파라미터 튜닝\n",
    "수업 내용 및 실습 자료를 참고하여 KNN을 구현하고 파라미터 튜닝을 하며 결과를 비교해주세요.\n",
    "### 3. Evaluation\n",
    "결과에 대한 평가를 진행하고, 나름의 해석을 달아주세요."
   ]
  },
  {
   "cell_type": "markdown",
   "metadata": {
    "id": "k_IkS8Ybe4PI"
   },
   "source": [
    "**데이터:** [blackfriday | Kaggle](https://www.kaggle.com/llopesolivei/blackfriday)"
   ]
  },
  {
   "cell_type": "markdown",
   "metadata": {
    "id": "ZvUdeo2he4PI"
   },
   "source": [
    "---"
   ]
  },
  {
   "cell_type": "markdown",
   "metadata": {
    "id": "lTlQgiSie4PI"
   },
   "source": [
    "## 0. 데이터 불러오기"
   ]
  },
  {
   "cell_type": "code",
   "execution_count": 243,
   "metadata": {
    "id": "eNTRK8Ete4PJ",
    "outputId": "de247747-4645-49a6-c5d2-38cc1a381d42"
   },
   "outputs": [
    {
     "data": {
      "text/html": [
       "<div>\n",
       "<style scoped>\n",
       "    .dataframe tbody tr th:only-of-type {\n",
       "        vertical-align: middle;\n",
       "    }\n",
       "\n",
       "    .dataframe tbody tr th {\n",
       "        vertical-align: top;\n",
       "    }\n",
       "\n",
       "    .dataframe thead th {\n",
       "        text-align: right;\n",
       "    }\n",
       "</style>\n",
       "<table border=\"1\" class=\"dataframe\">\n",
       "  <thead>\n",
       "    <tr style=\"text-align: right;\">\n",
       "      <th></th>\n",
       "      <th>User_ID</th>\n",
       "      <th>Product_ID</th>\n",
       "      <th>Gender</th>\n",
       "      <th>Age</th>\n",
       "      <th>Occupation</th>\n",
       "      <th>City_Category</th>\n",
       "      <th>Stay_In_Current_City_Years</th>\n",
       "      <th>Marital_Status</th>\n",
       "      <th>Product_Category_1</th>\n",
       "      <th>Product_Category_2</th>\n",
       "      <th>Product_Category_3</th>\n",
       "      <th>Purchase</th>\n",
       "    </tr>\n",
       "  </thead>\n",
       "  <tbody>\n",
       "    <tr>\n",
       "      <th>0</th>\n",
       "      <td>1001088</td>\n",
       "      <td>P00046042</td>\n",
       "      <td>F</td>\n",
       "      <td>0-17</td>\n",
       "      <td>10</td>\n",
       "      <td>A</td>\n",
       "      <td>3</td>\n",
       "      <td>0</td>\n",
       "      <td>5</td>\n",
       "      <td>17.0</td>\n",
       "      <td>NaN</td>\n",
       "      <td>2010</td>\n",
       "    </tr>\n",
       "    <tr>\n",
       "      <th>1</th>\n",
       "      <td>1004493</td>\n",
       "      <td>P00347742</td>\n",
       "      <td>F</td>\n",
       "      <td>0-17</td>\n",
       "      <td>10</td>\n",
       "      <td>A</td>\n",
       "      <td>1</td>\n",
       "      <td>0</td>\n",
       "      <td>7</td>\n",
       "      <td>NaN</td>\n",
       "      <td>NaN</td>\n",
       "      <td>4483</td>\n",
       "    </tr>\n",
       "    <tr>\n",
       "      <th>2</th>\n",
       "      <td>1005302</td>\n",
       "      <td>P00048942</td>\n",
       "      <td>F</td>\n",
       "      <td>0-17</td>\n",
       "      <td>10</td>\n",
       "      <td>A</td>\n",
       "      <td>1</td>\n",
       "      <td>0</td>\n",
       "      <td>1</td>\n",
       "      <td>4.0</td>\n",
       "      <td>NaN</td>\n",
       "      <td>7696</td>\n",
       "    </tr>\n",
       "    <tr>\n",
       "      <th>3</th>\n",
       "      <td>1001348</td>\n",
       "      <td>P00145242</td>\n",
       "      <td>F</td>\n",
       "      <td>0-17</td>\n",
       "      <td>10</td>\n",
       "      <td>A</td>\n",
       "      <td>3</td>\n",
       "      <td>0</td>\n",
       "      <td>2</td>\n",
       "      <td>4.0</td>\n",
       "      <td>NaN</td>\n",
       "      <td>16429</td>\n",
       "    </tr>\n",
       "    <tr>\n",
       "      <th>4</th>\n",
       "      <td>1001348</td>\n",
       "      <td>P00106742</td>\n",
       "      <td>F</td>\n",
       "      <td>0-17</td>\n",
       "      <td>10</td>\n",
       "      <td>A</td>\n",
       "      <td>3</td>\n",
       "      <td>0</td>\n",
       "      <td>3</td>\n",
       "      <td>5.0</td>\n",
       "      <td>NaN</td>\n",
       "      <td>5780</td>\n",
       "    </tr>\n",
       "  </tbody>\n",
       "</table>\n",
       "</div>"
      ],
      "text/plain": [
       "   User_ID Product_ID Gender   Age  Occupation City_Category  \\\n",
       "0  1001088  P00046042      F  0-17          10             A   \n",
       "1  1004493  P00347742      F  0-17          10             A   \n",
       "2  1005302  P00048942      F  0-17          10             A   \n",
       "3  1001348  P00145242      F  0-17          10             A   \n",
       "4  1001348  P00106742      F  0-17          10             A   \n",
       "\n",
       "  Stay_In_Current_City_Years  Marital_Status  Product_Category_1  \\\n",
       "0                          3               0                   5   \n",
       "1                          1               0                   7   \n",
       "2                          1               0                   1   \n",
       "3                          3               0                   2   \n",
       "4                          3               0                   3   \n",
       "\n",
       "   Product_Category_2  Product_Category_3  Purchase  \n",
       "0                17.0                 NaN      2010  \n",
       "1                 NaN                 NaN      4483  \n",
       "2                 4.0                 NaN      7696  \n",
       "3                 4.0                 NaN     16429  \n",
       "4                 5.0                 NaN      5780  "
      ]
     },
     "execution_count": 243,
     "metadata": {},
     "output_type": "execute_result"
    }
   ],
   "source": [
    "import matplotlib.pyplot as plt\n",
    "import seaborn as sns\n",
    "\n",
    "import pandas as pd\n",
    "df = pd.read_csv(\"blackfriday.csv\", index_col = 0)\n",
    "df.head()"
   ]
  },
  {
   "cell_type": "code",
   "execution_count": 244,
   "metadata": {},
   "outputs": [
    {
     "name": "stdout",
     "output_type": "stream",
     "text": [
      "<class 'pandas.core.frame.DataFrame'>\n",
      "Int64Index: 4998 entries, 0 to 4997\n",
      "Data columns (total 12 columns):\n",
      " #   Column                      Non-Null Count  Dtype  \n",
      "---  ------                      --------------  -----  \n",
      " 0   User_ID                     4998 non-null   int64  \n",
      " 1   Product_ID                  4998 non-null   object \n",
      " 2   Gender                      4998 non-null   object \n",
      " 3   Age                         4998 non-null   object \n",
      " 4   Occupation                  4998 non-null   int64  \n",
      " 5   City_Category               4998 non-null   object \n",
      " 6   Stay_In_Current_City_Years  4998 non-null   object \n",
      " 7   Marital_Status              4998 non-null   int64  \n",
      " 8   Product_Category_1          4998 non-null   int64  \n",
      " 9   Product_Category_2          3465 non-null   float64\n",
      " 10  Product_Category_3          1544 non-null   float64\n",
      " 11  Purchase                    4998 non-null   int64  \n",
      "dtypes: float64(2), int64(5), object(5)\n",
      "memory usage: 507.6+ KB\n"
     ]
    }
   ],
   "source": [
    "df.info()"
   ]
  },
  {
   "cell_type": "markdown",
   "metadata": {},
   "source": [
    "### 변수설명 (구글링해서 찾았음)\n",
    "```bash\n",
    " User_ID                     고객고유번호                \n",
    " Product_ID                  상품고유번호                \n",
    " Gender                      성별                       \n",
    " Age                         연령대                      \n",
    " Occupation                  직종                       \n",
    " City_Category               도시범주(A,B,C)             \n",
    " Stay_In_Current_City_Years  현재 도시에서 머문 년수       \n",
    " Marital_Status              결혼여부               \n",
    " Product_Category_1          상품 범주1           \n",
    " Product_Category_2                                \n",
    " Product_Category_3                         \n",
    " # 위 까지 모두 범주형 변수들이다.\n",
    " # Purchase 만 연속형 변수로 파악됨.\n",
    " Purchase                    구매금액(단위:$)  \n",
    "```"
   ]
  },
  {
   "cell_type": "code",
   "execution_count": 245,
   "metadata": {},
   "outputs": [
    {
     "data": {
      "text/plain": [
       "4     706\n",
       "0     572\n",
       "7     535\n",
       "1     460\n",
       "17    339\n",
       "12    305\n",
       "20    285\n",
       "2     251\n",
       "14    245\n",
       "16    244\n",
       "6     186\n",
       "3     160\n",
       "15    133\n",
       "10    122\n",
       "5      98\n",
       "11     95\n",
       "19     73\n",
       "13     65\n",
       "18     56\n",
       "9      50\n",
       "8      18\n",
       "Name: Occupation, dtype: int64"
      ]
     },
     "execution_count": 245,
     "metadata": {},
     "output_type": "execute_result"
    }
   ],
   "source": [
    "df['Occupation'].value_counts()"
   ]
  },
  {
   "cell_type": "markdown",
   "metadata": {},
   "source": [
    "## 1. Preprocessing / EDA"
   ]
  },
  {
   "cell_type": "markdown",
   "metadata": {},
   "source": [
    "결측치를 대체 혹은 제거하고, 관련없는 특징들은 모두 제거하겠다."
   ]
  },
  {
   "cell_type": "code",
   "execution_count": 246,
   "metadata": {},
   "outputs": [
    {
     "data": {
      "text/plain": [
       "User_ID                          0\n",
       "Product_ID                       0\n",
       "Gender                           0\n",
       "Age                              0\n",
       "Occupation                       0\n",
       "City_Category                    0\n",
       "Stay_In_Current_City_Years       0\n",
       "Marital_Status                   0\n",
       "Product_Category_1               0\n",
       "Product_Category_2            1533\n",
       "Product_Category_3            3454\n",
       "Purchase                         0\n",
       "dtype: int64"
      ]
     },
     "execution_count": 246,
     "metadata": {},
     "output_type": "execute_result"
    }
   ],
   "source": [
    "df.isnull().sum()"
   ]
  },
  {
   "cell_type": "markdown",
   "metadata": {},
   "source": [
    "대체로 결측치가 없다."
   ]
  },
  {
   "cell_type": "code",
   "execution_count": 247,
   "metadata": {},
   "outputs": [
    {
     "name": "stdout",
     "output_type": "stream",
     "text": [
      "Product_Category_2 결측치 비율 : 0.307\n",
      "Product_Category_3 결측치 비율 : 0.691\n"
     ]
    }
   ],
   "source": [
    "def showNanRatio(df, cat):\n",
    "    data_ratio = df[cat].isna().sum() / df[cat].shape[0]\n",
    "    print(cat + ' 결측치 비율 : %0.3f' % data_ratio)\n",
    "    \n",
    "\n",
    "showNanRatio(df, 'Product_Category_2')\n",
    "showNanRatio(df, 'Product_Category_3')"
   ]
  },
  {
   "cell_type": "markdown",
   "metadata": {},
   "source": [
    "데이터로 보았을때, 의존성 변수인것 같아 대체가 어려워 보이니 제거로 결정."
   ]
  },
  {
   "cell_type": "code",
   "execution_count": 248,
   "metadata": {},
   "outputs": [],
   "source": [
    "df = df.drop(columns=['Product_Category_2', 'Product_Category_3'], axis=1)"
   ]
  },
  {
   "cell_type": "markdown",
   "metadata": {},
   "source": [
    "이어서, 분석에 영향을 미치지 않는 ID관련 특징 제거"
   ]
  },
  {
   "cell_type": "code",
   "execution_count": 249,
   "metadata": {},
   "outputs": [],
   "source": [
    "df = df.drop(columns=['User_ID', 'Product_ID'], axis=1)"
   ]
  },
  {
   "cell_type": "markdown",
   "metadata": {},
   "source": [
    "이어서, 범주형 변수인데 문자열이거나, 타입이 올바르지 않은 경우 인코딩"
   ]
  },
  {
   "cell_type": "code",
   "execution_count": 250,
   "metadata": {},
   "outputs": [
    {
     "name": "stdout",
     "output_type": "stream",
     "text": [
      "Gender : F, M\n",
      "Age : 0-17, 18-25, 26-35, 36-45, 46-50, 51-55, 55+\n",
      "City_Category : A, B, C\n",
      "Stay_In_Current_City_Years : 3, 1, 2, 4+, 0\n"
     ]
    }
   ],
   "source": [
    "# 우선 Unique하게 뽑아서 Binary로 할지, get_dummies를 사용할지 결정\n",
    "def showUnique(df, col):\n",
    "    print(col + ' : ' + ', '.join(str(item) for item in df[col].unique()))\n",
    "    \n",
    "for _c in ['Gender', 'Age', 'City_Category', 'Stay_In_Current_City_Years']:\n",
    "    showUnique(df, _c)"
   ]
  },
  {
   "cell_type": "markdown",
   "metadata": {},
   "source": [
    "Gender, City_Category => 0,1 혹은 1,2,3 으로 대체\n",
    "\n",
    "나머지는 `pd.get_dummies()`로 one-hot encoding 진행"
   ]
  },
  {
   "cell_type": "code",
   "execution_count": 251,
   "metadata": {},
   "outputs": [],
   "source": [
    "# Gender, City_Category 값 변경\n",
    "target = [\n",
    "    [\n",
    "        {'col' : 'Gender', 'bVal' : 'F', 'aVal' : 0 },\n",
    "        {'col' : 'Gender', 'bVal' : 'M', 'aVal' : 1 }\n",
    "    ],\n",
    "    [\n",
    "        {'col' : 'City_Category', 'bVal' : 'A', 'aVal' : 1 },\n",
    "        {'col' : 'City_Category', 'bVal' : 'B', 'aVal' : 2 },\n",
    "        {'col' : 'City_Category', 'bVal' : 'C', 'aVal' : 3 }\n",
    "    ]\n",
    "]\n",
    "\n",
    "def changeValue(df, info):\n",
    "    for _info in info:\n",
    "        col, bVal, aVal = _info.values()\n",
    "        df.loc[df[col] == bVal, col] = aVal\n",
    "\n",
    "for _t in target:\n",
    "    changeValue(df, _t)\n",
    "    \n",
    "# Gender 및 City_Category 타입 변경\n",
    "df['Gender'] = df['Gender'].astype('int64')\n",
    "df['City_Category'] = df['City_Category'].astype('int64')"
   ]
  },
  {
   "cell_type": "code",
   "execution_count": 252,
   "metadata": {},
   "outputs": [],
   "source": [
    "# Age, Stay_In_Current_City_Years One-hot Encoding\n",
    "target = ['Age', 'Stay_In_Current_City_Years']\n",
    "encodedData = pd.get_dummies(df[target])\n",
    "\n",
    "df = pd.concat([df[df.describe().columns], encodedData], axis=1)"
   ]
  },
  {
   "cell_type": "code",
   "execution_count": 253,
   "metadata": {},
   "outputs": [
    {
     "name": "stdout",
     "output_type": "stream",
     "text": [
      "<class 'pandas.core.frame.DataFrame'>\n",
      "Int64Index: 4998 entries, 0 to 4997\n",
      "Data columns (total 18 columns):\n",
      " #   Column                         Non-Null Count  Dtype\n",
      "---  ------                         --------------  -----\n",
      " 0   Gender                         4998 non-null   int64\n",
      " 1   Occupation                     4998 non-null   int64\n",
      " 2   City_Category                  4998 non-null   int64\n",
      " 3   Marital_Status                 4998 non-null   int64\n",
      " 4   Product_Category_1             4998 non-null   int64\n",
      " 5   Purchase                       4998 non-null   int64\n",
      " 6   Age_0-17                       4998 non-null   uint8\n",
      " 7   Age_18-25                      4998 non-null   uint8\n",
      " 8   Age_26-35                      4998 non-null   uint8\n",
      " 9   Age_36-45                      4998 non-null   uint8\n",
      " 10  Age_46-50                      4998 non-null   uint8\n",
      " 11  Age_51-55                      4998 non-null   uint8\n",
      " 12  Age_55+                        4998 non-null   uint8\n",
      " 13  Stay_In_Current_City_Years_0   4998 non-null   uint8\n",
      " 14  Stay_In_Current_City_Years_1   4998 non-null   uint8\n",
      " 15  Stay_In_Current_City_Years_2   4998 non-null   uint8\n",
      " 16  Stay_In_Current_City_Years_3   4998 non-null   uint8\n",
      " 17  Stay_In_Current_City_Years_4+  4998 non-null   uint8\n",
      "dtypes: int64(6), uint8(12)\n",
      "memory usage: 331.9 KB\n"
     ]
    }
   ],
   "source": [
    "df.info()"
   ]
  },
  {
   "cell_type": "markdown",
   "metadata": {},
   "source": [
    "위 내용대로, Y에 해당하는 변수를 `Purchase`로 두어 KNN 구현"
   ]
  },
  {
   "cell_type": "code",
   "execution_count": 254,
   "metadata": {},
   "outputs": [],
   "source": [
    "X = df.drop(['Purchase'], axis=1)\n",
    "Y = df['Purchase']"
   ]
  },
  {
   "cell_type": "markdown",
   "metadata": {},
   "source": [
    "## 2. KNN 구현 & 파라미터 튜닝"
   ]
  },
  {
   "cell_type": "markdown",
   "metadata": {},
   "source": [
    "먼저, 테스트 데이터와 훈련 데이터를 나누었다."
   ]
  },
  {
   "cell_type": "code",
   "execution_count": 255,
   "metadata": {},
   "outputs": [
    {
     "name": "stdout",
     "output_type": "stream",
     "text": [
      "X_train shape: (3498, 17)\n",
      "X_test shape: (1500, 17)\n",
      "Y_train shape: (3498,)\n",
      "Y_test shape: (1500,)\n"
     ]
    }
   ],
   "source": [
    "# 관련 코드는 이전 과제 참고 (2주차).\n",
    "from sklearn.model_selection import train_test_split\n",
    "X_train, X_test, Y_train, Y_test = train_test_split(X, Y, test_size=0.3, shuffle=True)\n",
    "\n",
    "print(f\"X_train shape: {X_train.shape}\")\n",
    "print(f\"X_test shape: {X_test.shape}\")\n",
    "print(f\"Y_train shape: {Y_train.shape}\")\n",
    "print(f\"Y_test shape: {Y_test.shape}\")"
   ]
  },
  {
   "cell_type": "code",
   "execution_count": 262,
   "metadata": {},
   "outputs": [],
   "source": [
    "#train / test set\n",
    "from sklearn.model_selection import train_test_split\n",
    "\n",
    "train_df, test_df = train_test_split(df, train_size=0.7, random_state=2023)"
   ]
  },
  {
   "cell_type": "code",
   "execution_count": 264,
   "metadata": {},
   "outputs": [],
   "source": [
    "train_target = train_df['Purchase']\n",
    "test_target = test_df['Purchase']\n",
    "train_data = train_df.drop('Purchase', axis=1)\n",
    "test_data = test_df.drop('Purchase', axis=1)"
   ]
  },
  {
   "cell_type": "code",
   "execution_count": 265,
   "metadata": {
    "scrolled": true
   },
   "outputs": [],
   "source": [
    "#knn 시작\n",
    "from sklearn.neighbors import KNeighborsClassifier\n",
    "from sklearn.model_selection import GridSearchCV\n",
    "\n",
    "knn = KNeighborsClassifier()"
   ]
  },
  {
   "cell_type": "code",
   "execution_count": 267,
   "metadata": {},
   "outputs": [
    {
     "name": "stderr",
     "output_type": "stream",
     "text": [
      "C:\\Python39\\lib\\site-packages\\sklearn\\model_selection\\_split.py:700: UserWarning: The least populated class in y has only 1 members, which is less than n_splits=3.\n",
      "  warnings.warn(\n"
     ]
    },
    {
     "data": {
      "text/plain": [
       "{'n_neighbors': 13, 'p': 2, 'weights': 'uniform'}"
      ]
     },
     "execution_count": 267,
     "metadata": {},
     "output_type": "execute_result"
    }
   ],
   "source": [
    "# 그리드서치를 위한 파라미터 설정\n",
    "# 실습 내용을 참고했다.\n",
    "params = {\n",
    "    \"n_neighbors\": [i for i in range(1, 20, 2)],\n",
    "    \"p\": [1, 2], #1은 맨하탄, 2는 유클리드\n",
    "    \"weights\": ['uniform']\n",
    "}\n",
    "\n",
    "grid_cv = GridSearchCV(knn, param_grid = params, cv = 3)\n",
    "grid_cv.fit(train_data, train_target)\n",
    "grid_cv.best_params_"
   ]
  },
  {
   "cell_type": "code",
   "execution_count": 268,
   "metadata": {},
   "outputs": [
    {
     "data": {
      "text/html": [
       "<style>#sk-container-id-19 {color: black;background-color: white;}#sk-container-id-19 pre{padding: 0;}#sk-container-id-19 div.sk-toggleable {background-color: white;}#sk-container-id-19 label.sk-toggleable__label {cursor: pointer;display: block;width: 100%;margin-bottom: 0;padding: 0.3em;box-sizing: border-box;text-align: center;}#sk-container-id-19 label.sk-toggleable__label-arrow:before {content: \"▸\";float: left;margin-right: 0.25em;color: #696969;}#sk-container-id-19 label.sk-toggleable__label-arrow:hover:before {color: black;}#sk-container-id-19 div.sk-estimator:hover label.sk-toggleable__label-arrow:before {color: black;}#sk-container-id-19 div.sk-toggleable__content {max-height: 0;max-width: 0;overflow: hidden;text-align: left;background-color: #f0f8ff;}#sk-container-id-19 div.sk-toggleable__content pre {margin: 0.2em;color: black;border-radius: 0.25em;background-color: #f0f8ff;}#sk-container-id-19 input.sk-toggleable__control:checked~div.sk-toggleable__content {max-height: 200px;max-width: 100%;overflow: auto;}#sk-container-id-19 input.sk-toggleable__control:checked~label.sk-toggleable__label-arrow:before {content: \"▾\";}#sk-container-id-19 div.sk-estimator input.sk-toggleable__control:checked~label.sk-toggleable__label {background-color: #d4ebff;}#sk-container-id-19 div.sk-label input.sk-toggleable__control:checked~label.sk-toggleable__label {background-color: #d4ebff;}#sk-container-id-19 input.sk-hidden--visually {border: 0;clip: rect(1px 1px 1px 1px);clip: rect(1px, 1px, 1px, 1px);height: 1px;margin: -1px;overflow: hidden;padding: 0;position: absolute;width: 1px;}#sk-container-id-19 div.sk-estimator {font-family: monospace;background-color: #f0f8ff;border: 1px dotted black;border-radius: 0.25em;box-sizing: border-box;margin-bottom: 0.5em;}#sk-container-id-19 div.sk-estimator:hover {background-color: #d4ebff;}#sk-container-id-19 div.sk-parallel-item::after {content: \"\";width: 100%;border-bottom: 1px solid gray;flex-grow: 1;}#sk-container-id-19 div.sk-label:hover label.sk-toggleable__label {background-color: #d4ebff;}#sk-container-id-19 div.sk-serial::before {content: \"\";position: absolute;border-left: 1px solid gray;box-sizing: border-box;top: 0;bottom: 0;left: 50%;z-index: 0;}#sk-container-id-19 div.sk-serial {display: flex;flex-direction: column;align-items: center;background-color: white;padding-right: 0.2em;padding-left: 0.2em;position: relative;}#sk-container-id-19 div.sk-item {position: relative;z-index: 1;}#sk-container-id-19 div.sk-parallel {display: flex;align-items: stretch;justify-content: center;background-color: white;position: relative;}#sk-container-id-19 div.sk-item::before, #sk-container-id-19 div.sk-parallel-item::before {content: \"\";position: absolute;border-left: 1px solid gray;box-sizing: border-box;top: 0;bottom: 0;left: 50%;z-index: -1;}#sk-container-id-19 div.sk-parallel-item {display: flex;flex-direction: column;z-index: 1;position: relative;background-color: white;}#sk-container-id-19 div.sk-parallel-item:first-child::after {align-self: flex-end;width: 50%;}#sk-container-id-19 div.sk-parallel-item:last-child::after {align-self: flex-start;width: 50%;}#sk-container-id-19 div.sk-parallel-item:only-child::after {width: 0;}#sk-container-id-19 div.sk-dashed-wrapped {border: 1px dashed gray;margin: 0 0.4em 0.5em 0.4em;box-sizing: border-box;padding-bottom: 0.4em;background-color: white;}#sk-container-id-19 div.sk-label label {font-family: monospace;font-weight: bold;display: inline-block;line-height: 1.2em;}#sk-container-id-19 div.sk-label-container {text-align: center;}#sk-container-id-19 div.sk-container {/* jupyter's `normalize.less` sets `[hidden] { display: none; }` but bootstrap.min.css set `[hidden] { display: none !important; }` so we also need the `!important` here to be able to override the default hidden behavior on the sphinx rendered scikit-learn.org. See: https://github.com/scikit-learn/scikit-learn/issues/21755 */display: inline-block !important;position: relative;}#sk-container-id-19 div.sk-text-repr-fallback {display: none;}</style><div id=\"sk-container-id-19\" class=\"sk-top-container\"><div class=\"sk-text-repr-fallback\"><pre>KNeighborsClassifier(n_neighbors=13)</pre><b>In a Jupyter environment, please rerun this cell to show the HTML representation or trust the notebook. <br />On GitHub, the HTML representation is unable to render, please try loading this page with nbviewer.org.</b></div><div class=\"sk-container\" hidden><div class=\"sk-item\"><div class=\"sk-estimator sk-toggleable\"><input class=\"sk-toggleable__control sk-hidden--visually\" id=\"sk-estimator-id-19\" type=\"checkbox\" checked><label for=\"sk-estimator-id-19\" class=\"sk-toggleable__label sk-toggleable__label-arrow\">KNeighborsClassifier</label><div class=\"sk-toggleable__content\"><pre>KNeighborsClassifier(n_neighbors=13)</pre></div></div></div></div></div>"
      ],
      "text/plain": [
       "KNeighborsClassifier(n_neighbors=13)"
      ]
     },
     "execution_count": 268,
     "metadata": {},
     "output_type": "execute_result"
    }
   ],
   "source": [
    "knn_new = KNeighborsClassifier(\n",
    "    n_neighbors = grid_cv.best_params_['n_neighbors'], \n",
    "    p = grid_cv.best_params_['p'], \n",
    "    weights = grid_cv.best_params_['weights']\n",
    ")\n",
    "knn_new.fit(train_data, train_target)"
   ]
  },
  {
   "cell_type": "markdown",
   "metadata": {},
   "source": [
    "## 3. Evaluation"
   ]
  },
  {
   "cell_type": "code",
   "execution_count": 269,
   "metadata": {},
   "outputs": [],
   "source": [
    "test_pred = knn_new.predict(test_data)"
   ]
  },
  {
   "cell_type": "code",
   "execution_count": 271,
   "metadata": {},
   "outputs": [
    {
     "name": "stdout",
     "output_type": "stream",
     "text": [
      "test_data MAE :  5413.7\n",
      "test_data MSE :  47060238.92933334\n",
      "test_data MSE :  -0.9467525285271354\n"
     ]
    }
   ],
   "source": [
    "print(\"test_data MAE : \", mean_absolute_error(test_target, test_pred))\n",
    "print(\"test_data MSE : \", mean_squared_error(test_target, test_pred))\n",
    "print(\"test_data MSE : \", r2_score(test_target, test_pred))"
   ]
  }
 ],
 "metadata": {
  "colab": {
   "provenance": []
  },
  "kernelspec": {
   "display_name": "Python 3 (ipykernel)",
   "language": "python",
   "name": "python3"
  },
  "language_info": {
   "codemirror_mode": {
    "name": "ipython",
    "version": 3
   },
   "file_extension": ".py",
   "mimetype": "text/x-python",
   "name": "python",
   "nbconvert_exporter": "python",
   "pygments_lexer": "ipython3",
   "version": "3.9.4"
  }
 },
 "nbformat": 4,
 "nbformat_minor": 1
}
