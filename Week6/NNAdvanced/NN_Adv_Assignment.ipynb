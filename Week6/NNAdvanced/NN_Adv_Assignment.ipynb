{
 "cells": [
  {
   "cell_type": "markdown",
   "id": "b0ba9b89",
   "metadata": {},
   "source": [
    "## NN Adv Assignment"
   ]
  },
  {
   "cell_type": "code",
   "execution_count": 71,
   "id": "80f09603",
   "metadata": {},
   "outputs": [],
   "source": [
    "import numpy as np\n",
    "import pandas as pd\n",
    "import matplotlib.pyplot as plt\n",
    "\n",
    "### Pytorch\n",
    "\n",
    "import torch\n",
    "import torch.nn as nn\n",
    "import torch.nn.functional as F\n",
    "\n",
    "### TensorFlow\n",
    "\n",
    "import tensorflow as tf\n",
    "from tensorflow import keras\n",
    "\n",
    "import warnings\n",
    "warnings.filterwarnings(action='ignore')"
   ]
  },
  {
   "cell_type": "markdown",
   "id": "7e8c1bab",
   "metadata": {},
   "source": [
    "### Load Data\n",
    "\n",
    "test.csv에 label이 존재하지 않기에, keras에 있는 fashion_mnist 데이터셋의 테스트 셋을 불러왔다."
   ]
  },
  {
   "cell_type": "code",
   "execution_count": 72,
   "id": "b3eb5f5d",
   "metadata": {},
   "outputs": [],
   "source": [
    "#train = pd.read_csv('Train.csv')\n",
    "# test = pd.read_csv('Test.csv')"
   ]
  },
  {
   "cell_type": "code",
   "execution_count": 73,
   "id": "ae6f6178",
   "metadata": {},
   "outputs": [
    {
     "data": {
      "text/html": [
       "<div>\n",
       "<style scoped>\n",
       "    .dataframe tbody tr th:only-of-type {\n",
       "        vertical-align: middle;\n",
       "    }\n",
       "\n",
       "    .dataframe tbody tr th {\n",
       "        vertical-align: top;\n",
       "    }\n",
       "\n",
       "    .dataframe thead th {\n",
       "        text-align: right;\n",
       "    }\n",
       "</style>\n",
       "<table border=\"1\" class=\"dataframe\">\n",
       "  <thead>\n",
       "    <tr style=\"text-align: right;\">\n",
       "      <th></th>\n",
       "      <th>0</th>\n",
       "      <th>1</th>\n",
       "      <th>2</th>\n",
       "      <th>3</th>\n",
       "      <th>4</th>\n",
       "      <th>5</th>\n",
       "      <th>6</th>\n",
       "      <th>7</th>\n",
       "      <th>8</th>\n",
       "      <th>9</th>\n",
       "      <th>...</th>\n",
       "      <th>775</th>\n",
       "      <th>776</th>\n",
       "      <th>777</th>\n",
       "      <th>778</th>\n",
       "      <th>779</th>\n",
       "      <th>780</th>\n",
       "      <th>781</th>\n",
       "      <th>782</th>\n",
       "      <th>783</th>\n",
       "      <th>label</th>\n",
       "    </tr>\n",
       "  </thead>\n",
       "  <tbody>\n",
       "    <tr>\n",
       "      <th>0</th>\n",
       "      <td>0</td>\n",
       "      <td>0</td>\n",
       "      <td>0</td>\n",
       "      <td>0</td>\n",
       "      <td>0</td>\n",
       "      <td>0</td>\n",
       "      <td>0</td>\n",
       "      <td>0</td>\n",
       "      <td>0</td>\n",
       "      <td>0</td>\n",
       "      <td>...</td>\n",
       "      <td>0</td>\n",
       "      <td>0</td>\n",
       "      <td>0</td>\n",
       "      <td>0</td>\n",
       "      <td>0</td>\n",
       "      <td>0</td>\n",
       "      <td>0</td>\n",
       "      <td>0</td>\n",
       "      <td>0</td>\n",
       "      <td>1</td>\n",
       "    </tr>\n",
       "    <tr>\n",
       "      <th>1</th>\n",
       "      <td>0</td>\n",
       "      <td>0</td>\n",
       "      <td>0</td>\n",
       "      <td>0</td>\n",
       "      <td>0</td>\n",
       "      <td>0</td>\n",
       "      <td>0</td>\n",
       "      <td>0</td>\n",
       "      <td>0</td>\n",
       "      <td>0</td>\n",
       "      <td>...</td>\n",
       "      <td>0</td>\n",
       "      <td>0</td>\n",
       "      <td>0</td>\n",
       "      <td>0</td>\n",
       "      <td>0</td>\n",
       "      <td>0</td>\n",
       "      <td>0</td>\n",
       "      <td>0</td>\n",
       "      <td>0</td>\n",
       "      <td>3</td>\n",
       "    </tr>\n",
       "    <tr>\n",
       "      <th>2</th>\n",
       "      <td>0</td>\n",
       "      <td>0</td>\n",
       "      <td>0</td>\n",
       "      <td>0</td>\n",
       "      <td>0</td>\n",
       "      <td>0</td>\n",
       "      <td>0</td>\n",
       "      <td>0</td>\n",
       "      <td>0</td>\n",
       "      <td>0</td>\n",
       "      <td>...</td>\n",
       "      <td>0</td>\n",
       "      <td>0</td>\n",
       "      <td>0</td>\n",
       "      <td>0</td>\n",
       "      <td>0</td>\n",
       "      <td>0</td>\n",
       "      <td>0</td>\n",
       "      <td>0</td>\n",
       "      <td>0</td>\n",
       "      <td>8</td>\n",
       "    </tr>\n",
       "    <tr>\n",
       "      <th>3</th>\n",
       "      <td>0</td>\n",
       "      <td>0</td>\n",
       "      <td>0</td>\n",
       "      <td>0</td>\n",
       "      <td>0</td>\n",
       "      <td>0</td>\n",
       "      <td>0</td>\n",
       "      <td>0</td>\n",
       "      <td>0</td>\n",
       "      <td>0</td>\n",
       "      <td>...</td>\n",
       "      <td>0</td>\n",
       "      <td>0</td>\n",
       "      <td>0</td>\n",
       "      <td>0</td>\n",
       "      <td>0</td>\n",
       "      <td>0</td>\n",
       "      <td>0</td>\n",
       "      <td>0</td>\n",
       "      <td>0</td>\n",
       "      <td>7</td>\n",
       "    </tr>\n",
       "    <tr>\n",
       "      <th>4</th>\n",
       "      <td>0</td>\n",
       "      <td>0</td>\n",
       "      <td>0</td>\n",
       "      <td>0</td>\n",
       "      <td>0</td>\n",
       "      <td>0</td>\n",
       "      <td>0</td>\n",
       "      <td>0</td>\n",
       "      <td>0</td>\n",
       "      <td>0</td>\n",
       "      <td>...</td>\n",
       "      <td>0</td>\n",
       "      <td>0</td>\n",
       "      <td>0</td>\n",
       "      <td>0</td>\n",
       "      <td>0</td>\n",
       "      <td>0</td>\n",
       "      <td>0</td>\n",
       "      <td>0</td>\n",
       "      <td>0</td>\n",
       "      <td>5</td>\n",
       "    </tr>\n",
       "  </tbody>\n",
       "</table>\n",
       "<p>5 rows × 785 columns</p>\n",
       "</div>"
      ],
      "text/plain": [
       "   0  1  2  3  4  5  6  7  8  9  ...  775  776  777  778  779  780  781  782  \\\n",
       "0  0  0  0  0  0  0  0  0  0  0  ...    0    0    0    0    0    0    0    0   \n",
       "1  0  0  0  0  0  0  0  0  0  0  ...    0    0    0    0    0    0    0    0   \n",
       "2  0  0  0  0  0  0  0  0  0  0  ...    0    0    0    0    0    0    0    0   \n",
       "3  0  0  0  0  0  0  0  0  0  0  ...    0    0    0    0    0    0    0    0   \n",
       "4  0  0  0  0  0  0  0  0  0  0  ...    0    0    0    0    0    0    0    0   \n",
       "\n",
       "   783  label  \n",
       "0    0      1  \n",
       "1    0      3  \n",
       "2    0      8  \n",
       "3    0      7  \n",
       "4    0      5  \n",
       "\n",
       "[5 rows x 785 columns]"
      ]
     },
     "execution_count": 73,
     "metadata": {},
     "output_type": "execute_result"
    }
   ],
   "source": [
    "#train.head()"
   ]
  },
  {
   "cell_type": "code",
   "execution_count": 74,
   "id": "4e92830d",
   "metadata": {},
   "outputs": [
    {
     "data": {
      "text/plain": [
       "10"
      ]
     },
     "execution_count": 74,
     "metadata": {},
     "output_type": "execute_result"
    }
   ],
   "source": [
    "#train['label'].nunique()"
   ]
  },
  {
   "cell_type": "code",
   "execution_count": 75,
   "id": "2133c848",
   "metadata": {},
   "outputs": [],
   "source": [
    "# test.head()"
   ]
  },
  {
   "cell_type": "code",
   "execution_count": 76,
   "id": "35dc5b73",
   "metadata": {},
   "outputs": [],
   "source": [
    "X = train.iloc[:, :-1].values\n",
    "y = train.iloc[:, -1].values"
   ]
  },
  {
   "cell_type": "code",
   "execution_count": 77,
   "id": "26c6d257",
   "metadata": {},
   "outputs": [
    {
     "data": {
      "image/png": "[encoded data removed]",
      "text/plain": [
       "<Figure size 2000x100 with 20 Axes>"
      ]
     },
     "metadata": {},
     "output_type": "display_data"
    }
   ],
   "source": [
    "pltsize = 1\n",
    "plt.figure(figsize=(20 * pltsize, pltsize))\n",
    "for idx in range(0, 20):\n",
    "  plt.subplot(1, 20, idx + 1)\n",
    "  plt.axis('off')\n",
    "  plt.imshow(X[idx].reshape(28, 28), cmap='gray_r')\n",
    "  plt.title(f'Class : {y[idx]}')"
   ]
  },
  {
   "cell_type": "code",
   "execution_count": 85,
   "id": "9d06175b",
   "metadata": {},
   "outputs": [],
   "source": [
    "from tensorflow.keras.datasets import fashion_mnist\n",
    "\n",
    "(X_train, y_train), (X_test, y_test) = fashion_mnist.load_data()"
   ]
  },
  {
   "cell_type": "markdown",
   "id": "c2df1b99",
   "metadata": {},
   "source": [
    "### 1. 전처리 + Train-Test Split"
   ]
  },
  {
   "cell_type": "markdown",
   "id": "b508c706",
   "metadata": {},
   "source": [
    "주어진 데이터를 먼저 전처리 해주고, Split을 진행\n",
    "\n",
    "이때, 이전에 과제에서 사용했던 `train_test_split()`함수 활용"
   ]
  },
  {
   "cell_type": "code",
   "execution_count": 86,
   "id": "26f5e6e8",
   "metadata": {},
   "outputs": [],
   "source": [
    "from sklearn.model_selection import train_test_split\n",
    "\n",
    "X_train = X_train.astype('float32') / 255.\n",
    "X_test = X_test.astype('float32') / 255.\n",
    "\n",
    "X_train, X_value, y_train, y_value = train_test_split(X_train, y_train, test_size=0.25)"
   ]
  },
  {
   "cell_type": "code",
   "execution_count": 87,
   "id": "4dd95678",
   "metadata": {},
   "outputs": [],
   "source": [
    "# 전처리 : reshape 진행\n",
    "X_train = X_train.reshape(-1, 784)\n",
    "X_value = X_value.reshape(-1, 784)\n",
    "X_test = X_test.reshape(-1, 784)"
   ]
  },
  {
   "cell_type": "markdown",
   "id": "659d8129",
   "metadata": {},
   "source": [
    "### 2. 모델 구성 및 구간 별 함수 활용"
   ]
  },
  {
   "cell_type": "markdown",
   "id": "39d99253",
   "metadata": {},
   "source": [
    "3개의 layer로 구성된 Neural Network 모델에,\n",
    "\n",
    "- Activation Function : ReLU 함수 적용\n",
    "- Weight Initialization : GlorotUniform 함수 활용 -> Xavier Initialization과 같다고 함 ! [참고한 내용](https://reniew.github.io/13/) \n",
    "- Batch Normalization : 은닉층 사이마다 적용.\n",
    "- Dropout : 0.2만 떨궈서 Overfitting을 방지\n",
    "- Optimizer : Adam 알고리즘을 활용하고, lr은 0.001로 적용. [참고한 내용](https://wikidocs.net/36033)\n",
    "\n",
    "등을 적용해서 만들어보겠다.\n",
    "\n",
    "+) "
   ]
  },
  {
   "cell_type": "code",
   "execution_count": 88,
   "id": "7c6d25fd",
   "metadata": {},
   "outputs": [
    {
     "name": "stdout",
     "output_type": "stream",
     "text": [
      "Model: \"sequential_5\"\n",
      "_________________________________________________________________\n",
      " Layer (type)                Output Shape              Param #   \n",
      "=================================================================\n",
      " dense_15 (Dense)            (None, 512)               401920    \n",
      "                                                                 \n",
      " batch_normalization_10 (Bat  (None, 512)              2048      \n",
      " chNormalization)                                                \n",
      "                                                                 \n",
      " dropout_10 (Dropout)        (None, 512)               0         \n",
      "                                                                 \n",
      " dense_16 (Dense)            (None, 256)               131328    \n",
      "                                                                 \n",
      " batch_normalization_11 (Bat  (None, 256)              1024      \n",
      " chNormalization)                                                \n",
      "                                                                 \n",
      " dropout_11 (Dropout)        (None, 256)               0         \n",
      "                                                                 \n",
      " dense_17 (Dense)            (None, 10)                2570      \n",
      "                                                                 \n",
      "=================================================================\n",
      "Total params: 538,890\n",
      "Trainable params: 537,354\n",
      "Non-trainable params: 1,536\n",
      "_________________________________________________________________\n"
     ]
    }
   ],
   "source": [
    "from tensorflow.keras.models import Sequential\n",
    "from tensorflow.keras.layers import Dense, BatchNormalization, Dropout\n",
    "from tensorflow.keras.optimizers import Adam\n",
    "from tensorflow.keras.initializers import GlorotUniform\n",
    "\n",
    "model = Sequential([\n",
    "    # 입력층과 은닉층 1, input dimension이 784인 이유는, 28 * 28 이기 때문이다.\n",
    "    Dense(512, input_dim=784, activation='relu', kernel_initializer=GlorotUniform()),\n",
    "    BatchNormalization(),\n",
    "    Dropout(0.2),\n",
    "    \n",
    "    # 은닉층 2\n",
    "    Dense(256, activation='relu', kernel_initializer=GlorotUniform()),\n",
    "    BatchNormalization(),\n",
    "    Dropout(0.2),\n",
    "    \n",
    "    # 출력층\n",
    "    Dense(10, activation='softmax')\n",
    "])\n",
    "\n",
    "# Adam optimizer\n",
    "opt = Adam(learning_rate=0.001)\n",
    "\n",
    "# 모델 컴파일\n",
    "# 이때는 0ne-Hot encoding이 된 상황이 아니기에, loss function으로 sparse_cateforical_crossentropy를 사용했다. \n",
    "model.compile(loss='sparse_categorical_crossentropy', optimizer=opt, metrics=['accuracy'])\n",
    "\n",
    "# 모델 구조 확인\n",
    "model.summary()"
   ]
  },
  {
   "cell_type": "markdown",
   "id": "179ac701",
   "metadata": {},
   "source": [
    "### 3. 모델 학습 진행"
   ]
  },
  {
   "cell_type": "markdown",
   "id": "5750c62c",
   "metadata": {},
   "source": [
    "`fit()` 함수를 통해 모델학습을 진행.\n",
    "\n",
    "이때, `epoch`는 100, 그리고 `batch_size`는 128로 지정."
   ]
  },
  {
   "cell_type": "code",
   "execution_count": 91,
   "id": "859e2d3a",
   "metadata": {},
   "outputs": [
    {
     "name": "stdout",
     "output_type": "stream",
     "text": [
      "Epoch 1/100\n",
      "352/352 [==============================] - 2s 7ms/step - loss: 0.2813 - accuracy: 0.8948 - val_loss: 0.3195 - val_accuracy: 0.8812\n",
      "Epoch 2/100\n",
      "352/352 [==============================] - 3s 7ms/step - loss: 0.2740 - accuracy: 0.8971 - val_loss: 0.3718 - val_accuracy: 0.8654\n",
      "Epoch 3/100\n",
      "352/352 [==============================] - 3s 7ms/step - loss: 0.2699 - accuracy: 0.8987 - val_loss: 0.3273 - val_accuracy: 0.8849\n",
      "Epoch 4/100\n",
      "352/352 [==============================] - 3s 7ms/step - loss: 0.2698 - accuracy: 0.8984 - val_loss: 0.4905 - val_accuracy: 0.8337\n",
      "Epoch 5/100\n",
      "352/352 [==============================] - 3s 8ms/step - loss: 0.2618 - accuracy: 0.9008 - val_loss: 0.3239 - val_accuracy: 0.8855\n",
      "Epoch 6/100\n",
      "352/352 [==============================] - 3s 9ms/step - loss: 0.2569 - accuracy: 0.9024 - val_loss: 0.3003 - val_accuracy: 0.8929\n",
      "Epoch 7/100\n",
      "352/352 [==============================] - 3s 8ms/step - loss: 0.2533 - accuracy: 0.9042 - val_loss: 0.3016 - val_accuracy: 0.8920\n",
      "Epoch 8/100\n",
      "352/352 [==============================] - 3s 8ms/step - loss: 0.2546 - accuracy: 0.9043 - val_loss: 0.3359 - val_accuracy: 0.8823\n",
      "Epoch 9/100\n",
      "352/352 [==============================] - 3s 7ms/step - loss: 0.2470 - accuracy: 0.9062 - val_loss: 0.3020 - val_accuracy: 0.8917\n",
      "Epoch 10/100\n",
      "352/352 [==============================] - 3s 8ms/step - loss: 0.2400 - accuracy: 0.9093 - val_loss: 0.3269 - val_accuracy: 0.8879\n",
      "Epoch 11/100\n",
      "352/352 [==============================] - 3s 8ms/step - loss: 0.2402 - accuracy: 0.9097 - val_loss: 0.3060 - val_accuracy: 0.8939\n",
      "Epoch 12/100\n",
      "352/352 [==============================] - 3s 8ms/step - loss: 0.2314 - accuracy: 0.9115 - val_loss: 0.3148 - val_accuracy: 0.8917\n",
      "Epoch 13/100\n",
      "352/352 [==============================] - 3s 8ms/step - loss: 0.2259 - accuracy: 0.9147 - val_loss: 0.2964 - val_accuracy: 0.8957\n",
      "Epoch 14/100\n",
      "352/352 [==============================] - 3s 7ms/step - loss: 0.2210 - accuracy: 0.9156 - val_loss: 0.3199 - val_accuracy: 0.8901\n",
      "Epoch 15/100\n",
      "352/352 [==============================] - 3s 8ms/step - loss: 0.2228 - accuracy: 0.9158 - val_loss: 0.3173 - val_accuracy: 0.8920\n",
      "Epoch 16/100\n",
      "352/352 [==============================] - 3s 8ms/step - loss: 0.2211 - accuracy: 0.9151 - val_loss: 0.3159 - val_accuracy: 0.8959\n",
      "Epoch 17/100\n",
      "352/352 [==============================] - 3s 8ms/step - loss: 0.2235 - accuracy: 0.9157 - val_loss: 0.3417 - val_accuracy: 0.8813\n",
      "Epoch 18/100\n",
      "352/352 [==============================] - 3s 8ms/step - loss: 0.2185 - accuracy: 0.9177 - val_loss: 0.3449 - val_accuracy: 0.8837\n",
      "Epoch 19/100\n",
      "352/352 [==============================] - 3s 8ms/step - loss: 0.2144 - accuracy: 0.9181 - val_loss: 0.2992 - val_accuracy: 0.8985\n",
      "Epoch 20/100\n",
      "352/352 [==============================] - 3s 8ms/step - loss: 0.2166 - accuracy: 0.9182 - val_loss: 0.3164 - val_accuracy: 0.8933\n",
      "Epoch 21/100\n",
      "352/352 [==============================] - 3s 8ms/step - loss: 0.2120 - accuracy: 0.9190 - val_loss: 0.3108 - val_accuracy: 0.8951\n",
      "Epoch 22/100\n",
      "352/352 [==============================] - 3s 8ms/step - loss: 0.2032 - accuracy: 0.9228 - val_loss: 0.3073 - val_accuracy: 0.8965\n",
      "Epoch 23/100\n",
      "352/352 [==============================] - 3s 8ms/step - loss: 0.2057 - accuracy: 0.9214 - val_loss: 0.3290 - val_accuracy: 0.8929\n"
     ]
    }
   ],
   "source": [
    "# 빠른 학습 종료를 위해 Early Stopping 추가\n",
    "from tensorflow.keras.callbacks import EarlyStopping\n",
    "\n",
    "# Early Stopping 설정\n",
    "early_stopping = EarlyStopping(patience=10, monitor='val_loss', restore_best_weights=True)\n",
    "\n",
    "# 모델 학습\n",
    "history = model.fit(X_train, y_train, epochs=100, batch_size=128, validation_data=(X_value, y_value), callbacks=[early_stopping])"
   ]
  },
  {
   "cell_type": "markdown",
   "id": "14247aa5",
   "metadata": {},
   "source": [
    "### 4. 모델 평가"
   ]
  },
  {
   "cell_type": "markdown",
   "id": "93bae1c8",
   "metadata": {},
   "source": [
    "테스트 데이터를 통해서, 모델 평가를 진행."
   ]
  },
  {
   "cell_type": "code",
   "execution_count": 92,
   "id": "0adefa55",
   "metadata": {},
   "outputs": [
    {
     "name": "stdout",
     "output_type": "stream",
     "text": [
      "Test loss: 0.34408581256866455\n",
      "Test accuracy: 0.8805000185966492\n"
     ]
    }
   ],
   "source": [
    "[loss, accuracy] = model.evaluate(X_test, y_test, verbose=0)\n",
    "\n",
    "print('Test loss:', loss)\n",
    "print('Test accuracy:', accuracy)"
   ]
  }
 ],
 "metadata": {
  "kernelspec": {
   "display_name": "Python 3 (ipykernel)",
   "language": "python",
   "name": "python3"
  },
  "language_info": {
   "codemirror_mode": {
    "name": "ipython",
    "version": 3
   },
   "file_extension": ".py",
   "mimetype": "text/x-python",
   "name": "python",
   "nbconvert_exporter": "python",
   "pygments_lexer": "ipython3",
   "version": "3.9.4"
  }
 },
 "nbformat": 4,
 "nbformat_minor": 5
}
